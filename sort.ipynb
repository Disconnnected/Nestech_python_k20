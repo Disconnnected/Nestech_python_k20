{
 "cells": [
  {
   "cell_type": "code",
   "execution_count": 3,
   "metadata": {},
   "outputs": [],
   "source": [
    "def sort_asc_2_els(a: list) -> list:\n",
    "    if len(a) == 2:\n",
    "        if a[0] < a[1]:\n",
    "            return a\n",
    "        else:\n",
    "            return [a[1],a[0]]\n",
    "    else: \n",
    "        return None"
   ]
  },
  {
   "cell_type": "code",
   "execution_count": 4,
   "metadata": {},
   "outputs": [
    {
     "name": "stdout",
     "output_type": "stream",
     "text": [
      "[3, 4]\n"
     ]
    }
   ],
   "source": [
    "print(sort_asc_2_els([4,3]))"
   ]
  },
  {
   "cell_type": "code",
   "execution_count": 9,
   "metadata": {},
   "outputs": [],
   "source": [
    "def check(a : list) -> bool:\n",
    "    if a[0] < a[1] and a[1] < a[2]:\n",
    "        return True\n",
    "    else:\n",
    "        return False\n",
    "    \n",
    "def sort_asc_3_els(a : list) -> list:\n",
    "    if a[0] < a[1]:\n",
    "        if a[1] < a[2]:\n",
    "            a = [a[0],a[1],a[2]]\n",
    "        else:\n",
    "            a = [a[0],a[2],a[1]]\n",
    "    else:\n",
    "        a = [a[1],a[0],a[2]]\n",
    "    if check(a) == True:\n",
    "        return a\n",
    "    else:\n",
    "        return sort_asc_3_els(a)\n"
   ]
  },
  {
   "cell_type": "code",
   "execution_count": 10,
   "metadata": {},
   "outputs": [
    {
     "name": "stdout",
     "output_type": "stream",
     "text": [
      "[3, 6, 9]\n"
     ]
    }
   ],
   "source": [
    "\n",
    "# print(sort_3_els([3,9,6]))\n",
    "# print(sort_3_els([6,9,3]))\n",
    "print(sort_asc_3_els([9,6,3]))"
   ]
  },
  {
   "cell_type": "markdown",
   "metadata": {},
   "source": [
    "## Bubble sort\n",
    "compare two elements"
   ]
  },
  {
   "cell_type": "code",
   "execution_count": 59,
   "metadata": {},
   "outputs": [
    {
     "name": "stdout",
     "output_type": "stream",
     "text": [
      "input: [44 47 64 67 67  9 83 21 36 87]\n",
      "count: 6\n",
      "output: [ 9 21 36 44 47 64 67 67 83 87]\n"
     ]
    }
   ],
   "source": [
    "import numpy as np\n",
    "\n",
    "np.random.seed(0)\n",
    "\n",
    "def sort_asc_2_els(a: list) -> list:\n",
    "    if len(a) == 2:\n",
    "        if a[0] < a[1]:\n",
    "            return a\n",
    "        else:\n",
    "            return [a[1],a[0]]\n",
    "    else: \n",
    "        return None\n",
    "    \n",
    "def check_asc(a: list) -> bool:\n",
    "    length = len(a)\n",
    "    for i in range(0,length-1):\n",
    "        if a[i] > a[i+1]:\n",
    "            return False\n",
    "    return True\n",
    "\n",
    "def sort_bubble_asc(a: list, count: int = 1) -> list:\n",
    "    for i in range(0,len(a)-1):\n",
    "        a[i:i+2]=sort_asc_2_els(a[i:i+2])\n",
    "    if check_asc(a):\n",
    "        print(f'count: {count}')\n",
    "        return a\n",
    "    else:\n",
    "        return sort_bubble_asc(a, count + 1)\n",
    "    \n",
    "a = np.random.randint(0,100,10)\n",
    "print(f'input: {a}')\n",
    "print(f'output: {sort_bubble_asc(a)}')\n"
   ]
  },
  {
   "cell_type": "markdown",
   "metadata": {},
   "source": [
    "## SELECTION SORT\n",
    "find min, move to first position"
   ]
  },
  {
   "cell_type": "code",
   "execution_count": 136,
   "metadata": {},
   "outputs": [
    {
     "name": "stdout",
     "output_type": "stream",
     "text": [
      "input: [44 47 64 67 67  9 83 21 36 87 70 88 88]\n",
      "count: 12\n",
      "output: [ 9 21 36 44 47 64 67 67 70 83 87 88 88]\n"
     ]
    }
   ],
   "source": [
    "import numpy as np\n",
    "np.random.seed(0)\n",
    "\n",
    "def sort_selection_asc(a: list, position: int = 0) -> list:\n",
    "    length = len(a)\n",
    "    min = a[position]\n",
    "    i_min = position\n",
    "    \n",
    "    for i in range(position,length):\n",
    "        if a[i] < min:\n",
    "            min = a[i]\n",
    "            i_min = i\n",
    "    a[i_min] = a[position]\n",
    "    a[position] = min\n",
    "    \n",
    "    if position < length-2:\n",
    "        return sort_selection_asc(a, position+1)\n",
    "    else:\n",
    "        print(f'count: {position+1}')\n",
    "        return a\n",
    "\n",
    "    \n",
    "a = np.random.randint(0,100,13)\n",
    "print(f'input: {a}')\n",
    "print(f'output: {sort_selection_asc(a)}')\n",
    "     "
   ]
  },
  {
   "cell_type": "markdown",
   "metadata": {},
   "source": [
    "## INSERTION SORT\n",
    "select current ele, compare with els that is before, then insert"
   ]
  },
  {
   "cell_type": "code",
   "execution_count": 137,
   "metadata": {},
   "outputs": [
    {
     "name": "stdout",
     "output_type": "stream",
     "text": [
      "input: [44 47 64 67 67  9 83 21 36 87 70 88 88 12 58 65 39 87 46 88]\n",
      "count: 19\n",
      "output: [ 9 12 21 36 39 44 46 47 58 64 65 67 67 70 83 87 87 88 88 88]\n"
     ]
    }
   ],
   "source": [
    "import numpy as np\n",
    "np.random.seed(0)\n",
    "\n",
    "def sort_insert_asc(a: list, position: int = 0) -> list:\n",
    "    check = a[position]\n",
    "    for i in range(position-1,-1,-1):\n",
    "        if check < a[i]:\n",
    "            a[i+1] = a[i]\n",
    "            a[i] = check\n",
    "    if position < len(a)-1:\n",
    "        return sort_insert_asc(a, position+1)\n",
    "    else:\n",
    "        print(f'count: {position}')\n",
    "        return a\n",
    "a = np.random.randint(0,100,20)\n",
    "# a = [1,3,7,2,3]\n",
    "print(f'input: {a}')\n",
    "print(f'output: {sort_insert_asc(a)}')"
   ]
  },
  {
   "cell_type": "markdown",
   "metadata": {},
   "source": [
    "### MERGE SORT"
   ]
  },
  {
   "cell_type": "markdown",
   "metadata": {},
   "source": [
    "\n",
    "[mô phỏng code](https://docs.google.com/presentation/d/1uNi4BuD9KNc2awQR-fgeOg1Uc8Z-pm244eO_7TKh_DA/edit?usp=sharing)"
   ]
  },
  {
   "cell_type": "code",
   "execution_count": 12,
   "metadata": {},
   "outputs": [
    {
     "name": "stdout",
     "output_type": "stream",
     "text": [
      "input: [44, 47, 64, 3, 5, 1, 5, 3]\n",
      "output: [1, 3, 3, 5, 5, 44, 47, 64]\n"
     ]
    }
   ],
   "source": [
    "def merge_sort_asc(a : list) -> None:\n",
    "    if len(a) <= 1:\n",
    "        return a\n",
    "    \n",
    "    i_merge = len(a) // 2\n",
    "    left_a = a[:i_merge]\n",
    "    right_a = a[i_merge:]\n",
    "    \n",
    "    left_a = merge_sort_asc(left_a)\n",
    "    right_a = merge_sort_asc(right_a)\n",
    "\n",
    "    return merge_els(left_a, right_a)\n",
    "\n",
    "\n",
    "def merge_els(left : list, right: list):\n",
    "    result = []\n",
    "    i = 0\n",
    "    j = 0\n",
    "    while i < len(left) and j < len(right):\n",
    "        if left[i] <= right[j]:\n",
    "            result.append(left[i])\n",
    "            i+=1\n",
    "        else:\n",
    "            result.append(right[j])\n",
    "            j +=1\n",
    "    while i < len(left):\n",
    "        result.append(left[i])\n",
    "        i+=1\n",
    "    while j < len(right):\n",
    "        result.append(right[j])\n",
    "        j+=1\n",
    "    return result\n",
    "\n",
    "a = [44, 47, 64,3,5,1,5,3]\n",
    "print(f'input: {a}')\n",
    "print(f'output: {merge_sort_asc(a)}')"
   ]
  },
  {
   "cell_type": "code",
   "execution_count": 8,
   "metadata": {},
   "outputs": [
    {
     "name": "stdout",
     "output_type": "stream",
     "text": [
      "[3, 4, 5, 6, 7, 9, 10, 15]\n"
     ]
    }
   ],
   "source": [
    "def merge_2_array(a, b):\n",
    "    result = []\n",
    "    i = 0\n",
    "    j = 0\n",
    "    while i < len(a) and j < len(b):\n",
    "        if a[i] <= b[j]:\n",
    "            result.append(a[i])\n",
    "            i+=1\n",
    "        else:\n",
    "            result.append(b[j])\n",
    "            j +=1\n",
    "    while i < len(a):\n",
    "        result.append(a[i])\n",
    "        i+=1\n",
    "    while j < len(b):\n",
    "        result.append(b[j])\n",
    "        j+=1\n",
    "    return result\n",
    "a = [3,5,9]\n",
    "b = [4,6,7,10,15]\n",
    "print(merge_2_array(a,b))"
   ]
  }
 ],
 "metadata": {
  "kernelspec": {
   "display_name": "Python 3.9.2 64-bit",
   "language": "python",
   "name": "python3"
  },
  "language_info": {
   "codemirror_mode": {
    "name": "ipython",
    "version": 3
   },
   "file_extension": ".py",
   "mimetype": "text/x-python",
   "name": "python",
   "nbconvert_exporter": "python",
   "pygments_lexer": "ipython3",
   "version": "3.9.2"
  },
  "orig_nbformat": 4,
  "vscode": {
   "interpreter": {
    "hash": "916dbcbb3f70747c44a77c7bcd40155683ae19c65e1c03b4aa3499c5328201f1"
   }
  }
 },
 "nbformat": 4,
 "nbformat_minor": 2
}
