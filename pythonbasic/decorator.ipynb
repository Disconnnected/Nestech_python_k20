{
 "cells": [
  {
   "cell_type": "code",
   "execution_count": 1,
   "metadata": {},
   "outputs": [],
   "source": [
    "import numpy as np\n",
    "import pandas as pd\n",
    "import matplotlib.pyplot as plt\n",
    "import sys"
   ]
  },
  {
   "attachments": {},
   "cell_type": "markdown",
   "metadata": {},
   "source": [
    "# Decorator \n",
    "\n",
    "Python decorators allow you to change the behavior of a function without modifying the function itself."
   ]
  },
  {
   "attachments": {},
   "cell_type": "markdown",
   "metadata": {},
   "source": [
    "#### When to use a decorator in Python\n",
    "\n",
    "You'll use a decorator when you need to change the behavior of a function without modifying the function itself. A few good examples are when you want to add logging, test performance, perform caching, verify permissions, and so on.\n",
    "\n",
    "You can also use one when you need to run the same code on multiple functions. This avoids you writing duplicating code."
   ]
  },
  {
   "cell_type": "code",
   "execution_count": 8,
   "metadata": {},
   "outputs": [
    {
     "name": "stdout",
     "output_type": "stream",
     "text": [
      "I am a function.\n",
      "None\n"
     ]
    }
   ],
   "source": [
    "# A function is an object. Because of that, a function can be assigned to a variable. The function can be accessed from that variable\n",
    "\n",
    "def my_function():\n",
    "    print('I am a function.')\n",
    "\n",
    "# Assign the function to a variable without parenthesis. We don't want to execute the function.\n",
    "\n",
    "description = my_function\n",
    "# print(description)\n",
    "print(description())"
   ]
  },
  {
   "cell_type": "code",
   "execution_count": 10,
   "metadata": {},
   "outputs": [],
   "source": [
    "# A function can be nested within another function.\n",
    "def outer_function():\n",
    "    def inner_function():\n",
    "        print('I came from the inner function.')\n",
    "\n",
    "    # Executing the inner function inside the outer function.\n",
    "    inner_function()\n",
    "\n",
    "\n",
    "outer_function()"
   ]
  },
  {
   "cell_type": "code",
   "execution_count": 11,
   "metadata": {},
   "outputs": [
    {
     "name": "stdout",
     "output_type": "stream",
     "text": [
      "Python book chapter 3.\n"
     ]
    }
   ],
   "source": [
    "# Since a function can be nested inside another function it can also be returned.\n",
    "\n",
    "def outer_function():\n",
    "    '''Assign task to student'''\n",
    "\n",
    "    task = 'Python book chapter 3.'\n",
    "    def inner_function():\n",
    "        print(task)\n",
    "    return inner_function\n",
    "\n",
    "homework = outer_function()\n",
    "\n",
    "homework()"
   ]
  },
  {
   "cell_type": "code",
   "execution_count": 12,
   "metadata": {},
   "outputs": [
    {
     "name": "stdout",
     "output_type": "stream",
     "text": [
      "I am going to the store buy you something nice.\n",
      "Don't forget to bring your wallet!\n"
     ]
    },
    {
     "ename": "TypeError",
     "evalue": "'NoneType' object is not callable",
     "output_type": "error",
     "traceback": [
      "\u001b[1;31m---------------------------------------------------------------------------\u001b[0m",
      "\u001b[1;31mTypeError\u001b[0m                                 Traceback (most recent call last)",
      "Cell \u001b[1;32mIn[12], line 13\u001b[0m\n\u001b[0;32m      8\u001b[0m \u001b[39m@friendly_reminder\u001b[39m\n\u001b[0;32m      9\u001b[0m \u001b[39mdef\u001b[39;00m \u001b[39maction\u001b[39m():\n\u001b[0;32m     11\u001b[0m     \u001b[39mprint\u001b[39m(\u001b[39m'\u001b[39m\u001b[39mI am going to the store buy you something nice.\u001b[39m\u001b[39m'\u001b[39m)\n\u001b[1;32m---> 13\u001b[0m action()\n",
      "\u001b[1;31mTypeError\u001b[0m: 'NoneType' object is not callable"
     ]
    }
   ],
   "source": [
    "# A function can be passed to another function as an argument.\n",
    "\n",
    "def friendly_reminder(func):\n",
    "    '''Reminder for husband'''\n",
    "\n",
    "    func()\n",
    "    print('Don\\'t forget to bring your wallet!')\n",
    "\n",
    "    \n",
    "@friendly_reminder\n",
    "def action():\n",
    "\n",
    "    print('I am going to the store buy you something nice.')\n",
    "\n",
    "action()"
   ]
  },
  {
   "cell_type": "markdown",
   "metadata": {},
   "source": [
    "### decorator"
   ]
  },
  {
   "cell_type": "code",
   "execution_count": null,
   "metadata": {},
   "outputs": [],
   "source": [
    "def my_decorator_func(func):\n",
    "\n",
    "    def wrapper_func():\n",
    "        # Do something before the function.\n",
    "        func()\n",
    "        # Do something after the function.\n",
    "    return wrapper_func"
   ]
  },
  {
   "cell_type": "code",
   "execution_count": null,
   "metadata": {},
   "outputs": [],
   "source": [
    "@my_decorator_func\n",
    "def my_func():\n",
    "\n",
    "    print(\"do something\")"
   ]
  },
  {
   "cell_type": "code",
   "execution_count": 45,
   "metadata": {},
   "outputs": [
    {
     "name": "stdout",
     "output_type": "stream",
     "text": [
      "Function: daily_backup\n",
      "Run on: 2023-03-21 20:22:13\n",
      "------------------------------\n",
      "Daily backup job has finished.\n"
     ]
    }
   ],
   "source": [
    "from datetime import datetime\n",
    "\n",
    "\n",
    "def log_datetime(func):\n",
    "    '''Log the date and time of a function'''\n",
    "\n",
    "    def wrapper():\n",
    "        print(f'Function: {func.__name__}\\nRun on: {datetime.today().strftime(\"%Y-%m-%d %H:%M:%S\")}')\n",
    "        print(f'{\"-\"*30}')\n",
    "        func()\n",
    "    return wrapper\n",
    "\n",
    "\n",
    "@log_datetime\n",
    "def daily_backup():\n",
    "    print('Daily backup job has finished.')   \n",
    "\n",
    "# decorator_function = log_datetime(daily_backup)\n",
    "# decorator_function()\n",
    "\n",
    "daily_backup()"
   ]
  },
  {
   "cell_type": "code",
   "execution_count": 15,
   "metadata": {},
   "outputs": [
    {
     "name": "stdout",
     "output_type": "stream",
     "text": [
      "Function: daily_backup\n",
      "Run on: 2023-03-21 15:51:30\n",
      "------------------------------\n",
      "Daily backup job has finished.\n"
     ]
    }
   ],
   "source": [
    "from datetime import datetime\n",
    "\n",
    "\n",
    "def log_datetime(func):\n",
    "    '''Log the date and time of a function'''\n",
    "\n",
    "    def wrapper():\n",
    "        print(f'Function: {func.__name__}\\nRun on: {datetime.today().strftime(\"%Y-%m-%d %H:%M:%S\")}')\n",
    "        print(f'{\"-\"*30}')\n",
    "        func()\n",
    "    return wrapper\n",
    "\n",
    "\n",
    "# @log_datetime\n",
    "def daily_backup():\n",
    "    print('Daily backup job has finished.')   \n",
    "\n",
    "# decorate the ordinary function\n",
    "decorate = log_datetime(daily_backup)\n",
    "decorate()"
   ]
  },
  {
   "cell_type": "code",
   "execution_count": 29,
   "metadata": {},
   "outputs": [
    {
     "name": "stdout",
     "output_type": "stream",
     "text": [
      "this is function 3\n",
      "this is function 2\n"
     ]
    }
   ],
   "source": [
    "def func1(func):\n",
    "    def func3():\n",
    "        print(\"this is function 3\")\n",
    "        func()\n",
    "    return func3\n",
    "\n",
    "@func1\n",
    "def func2():\n",
    "    print(\"this is function 2\")\n",
    "\n",
    "func2()\n"
   ]
  },
  {
   "cell_type": "code",
   "execution_count": null,
   "metadata": {},
   "outputs": [],
   "source": []
  },
  {
   "cell_type": "code",
   "execution_count": null,
   "metadata": {},
   "outputs": [],
   "source": []
  }
 ],
 "metadata": {
  "kernelspec": {
   "display_name": "Python 3.9.2 64-bit",
   "language": "python",
   "name": "python3"
  },
  "language_info": {
   "codemirror_mode": {
    "name": "ipython",
    "version": 3
   },
   "file_extension": ".py",
   "mimetype": "text/x-python",
   "name": "python",
   "nbconvert_exporter": "python",
   "pygments_lexer": "ipython3",
   "version": "3.9.2"
  },
  "orig_nbformat": 4,
  "vscode": {
   "interpreter": {
    "hash": "916dbcbb3f70747c44a77c7bcd40155683ae19c65e1c03b4aa3499c5328201f1"
   }
  }
 },
 "nbformat": 4,
 "nbformat_minor": 2
}
