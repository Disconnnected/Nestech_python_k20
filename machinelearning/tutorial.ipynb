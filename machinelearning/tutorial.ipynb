{
 "cells": [
  {
   "cell_type": "markdown",
   "metadata": {},
   "source": [
    "- đại số tuyến tính (lớp 12, đại học)\n",
    "    - vector\n",
    "    - ma trận\n",
    "- xác suất thống kê (lớp 11, đại học)\n",
    "    - tổ hợp\n",
    "    - xác suất\n",
    "        - xác suất rời rạc\n",
    "        - xác suất liên tục\n",
    "        - xác suất biên\n",
    "        - xác suất có điều kiện\n",
    "        - phương sai, độ lệch chuẩn\n",
    "            - phương sai (alpha): càng lớn, độ phân tán càng cao, càng xa điểm kì vọng\n",
    "        - phân phối:\n",
    "            - Phân phối Bernoulli\n",
    "            - Phân phối Categorical\n",
    "            - Phân phối chuẩn một chiều\n",
    "            - Phân phối chuẩn nhiều chiều\n",
    "            - Phân phối Beta\n",
    "            - Phân phối Dirichlet\n",
    "- giải tích\n",
    "    - Dãy số (cấp cộng, cấp nhân) (lớp 11)\n",
    "    - Hàm số: lượng giá (11), mũ (12), lôgarit(12)\n",
    "    - đạo hàm (11)\n",
    "    - nguyên hàm, tích phân (12)\n",
    "    - số phức (12)\n",
    "- min, max (ML)"
   ]
  },
  {
   "cell_type": "markdown",
   "metadata": {},
   "source": [
    "## TỔNG QUÁ MANCHINE LEARNING\n",
    "\n",
    "- học kinh nghiệm E, thực hiện nhiệm vụ T, hiệu quả đo lường phương pháp P, cải thiện kinh nghiệm E\n",
    "- data point: 1 hình ảnh, 1 KH, 1 sms\n",
    "- Được biểu diễn bằng 1 vector đặc trưng, xi gọi là 1 điểm đặc trưng\n",
    "\n",
    "### Thực hiện nhiệm vụ T: bài toán xử lý nhiều nhất trong ML\n",
    "\n",
    "- Phân loại / phân lớp (Classification)\n",
    "- Hồi quy (regression.) : tập hợp các số, đưa ra quy luật chung, tiên lượng kết quả từ input\n",
    "- Machine translation\n",
    "- Clustering là bài toán phân nhóm toàn bộ dữ liệu X,  ví dụ: Hình ảnh và màu sắc, có thể 1 hình đồng thời ở trong 2 nhóm hình dạng và màu sắc\n",
    "- Completion: điền vào phần còn thiếu của 1 điểm dữ liệu\n",
    "\n",
    "### Phép đánh giá, P\n",
    "\n",
    "- tập huấn luyện (training set): online và offline\n",
    "- tập kiểm thử (test set)\n",
    "\n",
    "### hàm mất mát và tham số mô hình\n",
    "- tìm hiểu tối ưu không ràng buộc, và tối ưu có ràng buộc\n",
    "\n",
    "## FEATURE đặc tính\n",
    "\n",
    "### Mô hình chung cho các bài toán\n",
    "\n",
    "- Training phase: tìm đặc tính từ dữ liệu thô, chuyển thành vector đặc trưng\n",
    "    - raw data\n",
    "    - select feature\n",
    "    - giảm chiều dữ liệu:  xử lý đơn giản hơn\n",
    "- Test phase\n"
   ]
  }
 ],
 "metadata": {
  "kernelspec": {
   "display_name": "Python 3.9.2 64-bit",
   "language": "python",
   "name": "python3"
  },
  "language_info": {
   "name": "python",
   "version": "3.9.2"
  },
  "orig_nbformat": 4,
  "vscode": {
   "interpreter": {
    "hash": "916dbcbb3f70747c44a77c7bcd40155683ae19c65e1c03b4aa3499c5328201f1"
   }
  }
 },
 "nbformat": 4,
 "nbformat_minor": 2
}
