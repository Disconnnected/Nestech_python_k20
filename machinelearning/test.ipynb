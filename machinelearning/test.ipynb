{
 "cells": [
  {
   "cell_type": "code",
   "execution_count": 21,
   "metadata": {},
   "outputs": [
    {
     "name": "stdout",
     "output_type": "stream",
     "text": [
      "vong [3, 3]\n"
     ]
    },
    {
     "data": {
      "text/plain": [
       "[4, 3]"
      ]
     },
     "execution_count": 21,
     "metadata": {},
     "output_type": "execute_result"
    }
   ],
   "source": [
    "def coordinates(C: list, is_change_Cx: bool) -> list:\n",
    "    Cx, Cy = C\n",
    "    if is_change_Cx == True:\n",
    "        C_new = [Cx + 1, Cy]\n",
    "    else:\n",
    "        C_new = [Cx,Cy + 1]\n",
    "    # check tọa độ, tránh tính toán tọa độ trùng lần trước.\n",
    "    # điều kiện, Cx or Cy khác 1, và Cx và Cy không chia hết cho nhau hoặc Cx và Cy đồng thời không chia hết cho 2\n",
    "    Cx_new, Cy_new = C_new\n",
    "\n",
    "    if Cx_new == 1 or Cy_new == 1:\n",
    "        return C_new\n",
    "    else:\n",
    "        if (Cx_new % Cy_new == 0) or (Cy_new % Cx_new) == 0:\n",
    "            print(f'vong {C_new}')\n",
    "            return coordinates(C_new,is_change_Cx)\n",
    "        elif (Cx_new % 2 == 0) and (Cy_new % 2 == 0):\n",
    "            print(C_new)\n",
    "            return coordinates(C_new,is_change_Cx)\n",
    "        return C_new     \n",
    "coordinates([2,3],True)"
   ]
  },
  {
   "cell_type": "code",
   "execution_count": 8,
   "metadata": {},
   "outputs": [
    {
     "name": "stdout",
     "output_type": "stream",
     "text": [
      "2\n",
      "3\n",
      "4\n",
      "5\n",
      "6\n",
      "7\n",
      "8\n",
      "9\n",
      "9\n",
      "8\n",
      "7\n",
      "6\n",
      "5\n",
      "4\n",
      "3\n",
      "2\n"
     ]
    }
   ],
   "source": [
    "def countone(number):\n",
    "    if number < 10:\n",
    "        print(number)\n",
    "        countone(number+1)\n",
    "        print(number)\n",
    "    else:\n",
    "        return number\n",
    "countone(2)"
   ]
  }
 ],
 "metadata": {
  "kernelspec": {
   "display_name": "Python 3.9.2 64-bit",
   "language": "python",
   "name": "python3"
  },
  "language_info": {
   "codemirror_mode": {
    "name": "ipython",
    "version": 3
   },
   "file_extension": ".py",
   "mimetype": "text/x-python",
   "name": "python",
   "nbconvert_exporter": "python",
   "pygments_lexer": "ipython3",
   "version": "3.9.2"
  },
  "orig_nbformat": 4,
  "vscode": {
   "interpreter": {
    "hash": "916dbcbb3f70747c44a77c7bcd40155683ae19c65e1c03b4aa3499c5328201f1"
   }
  }
 },
 "nbformat": 4,
 "nbformat_minor": 2
}
