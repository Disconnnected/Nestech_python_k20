{
 "cells": [
  {
   "cell_type": "code",
   "execution_count": null,
   "metadata": {},
   "outputs": [],
   "source": [
    "def thunhap(luong, thang):\n",
    "  result = 0\n",
    "  for i in range(0,thang):\n",
    "    heso = i//12\n",
    "    result += luong*(1.1**heso)\n",
    "  return result\n",
    "tong_thunhap = thunhap(10000,30) + thunhap(12000,3) + thunhap(20000,48) + thunhap(40000,8)\n",
    "print(tong_thunhap)\n",
    "\n",
    "# def total_income(number_of_jobs):\n",
    "#     for i in range(number_of_jobs):\n",
    "#         total_income += job_income()\n",
    "        \n",
    "# def job_income(number_of_time,unit, income):\n",
    "#     income = 0\n",
    "#     time = time_calc(unit,number_of_time)\n",
    "#     if not time:\n",
    "#         return False\n",
    "#     if time > 12:\n",
    "#         pass\n",
    "\n",
    "# def time_calc(unit, number_of_time):\n",
    "#     if unit == \"year\":\n",
    "#         return number_of_time * 12\n",
    "#     elif unit == \"month\":\n",
    "#         return number_of_time\n",
    "#     else:\n",
    "#         print(\"wrong unit\")\n",
    "#         return False\n",
    "    \n",
    "# def up_salary(income, interest = 1.1):\n",
    "#     return income * interest\n",
    "\n",
    "# income = 10\n",
    "# for item in range(3):\n",
    "#     income = up_salary(income)\n",
    "#     print(income)"
   ]
  },
  {
   "cell_type": "code",
   "execution_count": 65,
   "metadata": {},
   "outputs": [
    {
     "name": "stdout",
     "output_type": "stream",
     "text": [
      "check: [6, 9, 3]\n",
      "check: [6, 3, 9]\n",
      "check: [3, 6, 9]\n",
      "sorted: [3, 6, 9]\n",
      "[6, 9, 3]\n"
     ]
    }
   ],
   "source": [
    "def check(a : list) -> bool:\n",
    "    print(f'check: {a}')\n",
    "    if a[0] < a[1] and a[1] < a[2]:\n",
    "        return True\n",
    "    else:\n",
    "        return False\n",
    "    \n",
    "def sort_3_els(a : list) -> list:\n",
    "    b = []\n",
    "    if a[0] < a[1]:\n",
    "        if a[1] < a[2]:\n",
    "            a = [a[0],a[1],a[2]]\n",
    "        else:\n",
    "            a = [a[0],a[2],a[1]]\n",
    "    else:\n",
    "        a = [a[1],a[0],a[2]]\n",
    "    if check(a) == True:\n",
    "        print( f'sorted: {a}' )\n",
    "        a = a\n",
    "        # return b\n",
    "    else:\n",
    "        sort_3_els(a)\n",
    "    return a\n",
    "\n",
    "# print(sort_3_els([3,9,6]))\n",
    "# print(sort_3_els([6,9,3]))\n",
    "print(sort_3_els([9,6,3]))"
   ]
  },
  {
   "cell_type": "code",
   "execution_count": 1,
   "metadata": {},
   "outputs": [
    {
     "name": "stdout",
     "output_type": "stream",
     "text": [
      "check: [6, 9, 3]\n",
      "check: [6, 3, 9]\n",
      "check: [3, 6, 9]\n",
      "sorted: [3, 6, 9]\n",
      "None\n"
     ]
    }
   ],
   "source": [
    "def check(a : list) -> bool:\n",
    "    print(f'check: {a}')\n",
    "    if a[0] < a[1] and a[1] < a[2]:\n",
    "        return True\n",
    "    else:\n",
    "        return False\n",
    "    \n",
    "def sort_3_els(a : list) -> list:\n",
    "    if a[0] < a[1]:\n",
    "        if a[1] < a[2]:\n",
    "            a = [a[0],a[1],a[2]]\n",
    "        else:\n",
    "            a = [a[0],a[2],a[1]]\n",
    "    else:\n",
    "        a = [a[1],a[0],a[2]]\n",
    "    if check(a) == True:\n",
    "        print( f'sorted: {a}' )\n",
    "        return a\n",
    "    else:\n",
    "        sort_3_els(a)\n",
    "    # return a\n",
    "\n",
    "# print(sort_3_els([3,9,6]))\n",
    "# print(sort_3_els([6,9,3]))\n",
    "print(sort_3_els([9,6,3]))"
   ]
  },
  {
   "cell_type": "code",
   "execution_count": 2,
   "metadata": {},
   "outputs": [
    {
     "name": "stdout",
     "output_type": "stream",
     "text": [
      "[4, 2, 5]\n"
     ]
    }
   ],
   "source": [
    "\n",
    "def sort_2(a: list):\n",
    "    list_new = []\n",
    "    for i in range(len(a)):\n",
    "        min = a[i]\n",
    "        for j in range(i,len(a)):\n",
    "            if a[i] < min:\n",
    "                min = a[i]\n",
    "        list_new.append(min)\n",
    "    return list_new\n",
    "a = [4,2,5]\n",
    "print(sort_2(a))"
   ]
  }
 ],
 "metadata": {
  "kernelspec": {
   "display_name": "Python 3.9.2 64-bit",
   "language": "python",
   "name": "python3"
  },
  "language_info": {
   "codemirror_mode": {
    "name": "ipython",
    "version": 3
   },
   "file_extension": ".py",
   "mimetype": "text/x-python",
   "name": "python",
   "nbconvert_exporter": "python",
   "pygments_lexer": "ipython3",
   "version": "3.9.2"
  },
  "orig_nbformat": 4,
  "vscode": {
   "interpreter": {
    "hash": "916dbcbb3f70747c44a77c7bcd40155683ae19c65e1c03b4aa3499c5328201f1"
   }
  }
 },
 "nbformat": 4,
 "nbformat_minor": 2
}
