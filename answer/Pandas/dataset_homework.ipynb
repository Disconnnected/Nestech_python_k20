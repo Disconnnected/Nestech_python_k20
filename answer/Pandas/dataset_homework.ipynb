{
 "cells": [
  {
   "cell_type": "code",
   "execution_count": null,
   "metadata": {},
   "outputs": [],
   "source": [
    "import numpy as np\n",
    "import pandas as pd\n",
    "import matplotlib.pyplot as plt"
   ]
  },
  {
   "cell_type": "code",
   "execution_count": null,
   "metadata": {},
   "outputs": [],
   "source": [
    "df_movies = pd.DataFrame(pd.read_csv(\"..\\Pandas\\Dataset\\Popular Movies Datasets\\movies.csv\"))\n",
    "print(df_movies.columns)\n",
    "print(df_movies.info())"
   ]
  },
  {
   "cell_type": "code",
   "execution_count": null,
   "metadata": {},
   "outputs": [],
   "source": [
    "df_tags = pd.DataFrame(pd.read_csv(\"../Pandas/Dataset/Popular Movies Datasets/tags.csv\"))\n",
    "print(df_tags.columns)\n",
    "print(df_tags.info())"
   ]
  },
  {
   "cell_type": "code",
   "execution_count": null,
   "metadata": {},
   "outputs": [],
   "source": [
    "c_tag = df_tags.drop(columns=[\"userId\",\"timestamp\"])\n",
    "c_tag[\"tag\"] = c_tag[\"tag\"].astype(\"str\")\n",
    "c_tag[\"tag\"] = c_tag.groupby([\"movieId\"])[\"tag\"].transform(lambda x: \", \".join(x))\n",
    "c_tag = c_tag.drop_duplicates()"
   ]
  },
  {
   "cell_type": "code",
   "execution_count": null,
   "metadata": {},
   "outputs": [],
   "source": [
    "df_ratings = pd.DataFrame(pd.read_csv(\"../Pandas/Dataset/Popular Movies Datasets/ratings.csv\"))\n",
    "print(df_ratings.columns)\n",
    "print(df_ratings.info())"
   ]
  },
  {
   "cell_type": "code",
   "execution_count": null,
   "metadata": {},
   "outputs": [],
   "source": [
    "df_links = pd.DataFrame(pd.read_csv(\"..\\Pandas\\Dataset\\Popular Movies Datasets\\links.csv\"))\n",
    "print(df_links.columns)\n",
    "print(df_links.info())"
   ]
  },
  {
   "cell_type": "code",
   "execution_count": null,
   "metadata": {},
   "outputs": [],
   "source": [
    "#Merge and average ratings\n",
    "mnc_rate = df_ratings.groupby(\"movieId\").rating.mean().round(1).to_frame(\"rating\").reset_index()"
   ]
  },
  {
   "cell_type": "code",
   "execution_count": null,
   "metadata": {},
   "outputs": [],
   "source": [
    "#Combine\n",
    "data = pd.merge(df_movies,c_tag, on='movieId')\n",
    "data = pd.merge(data,mnc_rate[['movieId', 'rating']], on='movieId')\n",
    "data = pd.merge(data,df_links,on='movieId')"
   ]
  },
  {
   "cell_type": "code",
   "execution_count": null,
   "metadata": {},
   "outputs": [],
   "source": [
    "data[\"tmdbId\"] = data[\"tmdbId\"].fillna(0)"
   ]
  },
  {
   "cell_type": "code",
   "execution_count": null,
   "metadata": {},
   "outputs": [],
   "source": [
    "data[\"imdbId\"] = data[\"imdbId\"].astype(\"int64\")\n",
    "data[\"tmdbId\"] = data[\"tmdbId\"].astype(\"int64\")"
   ]
  },
  {
   "cell_type": "code",
   "execution_count": null,
   "metadata": {},
   "outputs": [],
   "source": [
    "data.isnull().sum()"
   ]
  },
  {
   "cell_type": "code",
   "execution_count": null,
   "metadata": {},
   "outputs": [],
   "source": [
    "#Có bao nhiêu thể loại phim, tạo biểu đồ thể hiện 10 thể loại xuất hiện nhiều nhất trên các bộ phim\n",
    "sg = df_movies[\"genres\"].apply(lambda x: pd.Series(str(x).split(\"|\")))\n",
    "# sg = df_movies[\"genres\"].str.split(\"|\")"
   ]
  },
  {
   "cell_type": "code",
   "execution_count": null,
   "metadata": {},
   "outputs": [],
   "source": [
    "sg_0 = sg[0].dropna()\n",
    "sg_1 = sg[1].dropna()\n",
    "sg_2 = sg[2].dropna()\n",
    "sg_3 = sg[3].dropna()\n",
    "sg_4 = sg[4].dropna()\n",
    "sg_5 = sg[5].dropna()\n",
    "sg_6 = sg[6].dropna()\n",
    "sg_7 = sg[7].dropna()\n",
    "sg_8 = sg[8].dropna()\n",
    "sg_9 = sg[9].dropna()\n",
    "genres = pd.DataFrame(pd.concat([sg_0, sg_1, sg_2, sg_3, sg_4, sg_5, sg_6, sg_7, sg_8, sg_9]), columns=[\"genres\"])\n"
   ]
  },
  {
   "cell_type": "code",
   "execution_count": null,
   "metadata": {},
   "outputs": [],
   "source": [
    "clean_gen = genres.drop_duplicates().reset_index()\n",
    "clean_gen = clean_gen.drop(clean_gen[clean_gen[\"genres\"]== \"(no genres listed)\"].index)\n",
    "clean_gen = clean_gen.drop(columns=\"index\")\n",
    "count_gen = clean_gen.shape[0]\n",
    "drop_nogen = genres.drop(genres[genres[\"genres\"] == \"(no genres listed)\"].index)\n",
    "sum_gen = drop_nogen['genres'].value_counts().to_frame(name='Số lượng phim').reset_index().rename(columns={'index': 'Thể loại'})"
   ]
  },
  {
   "cell_type": "code",
   "execution_count": null,
   "metadata": {},
   "outputs": [],
   "source": [
    "print(f\"Có tổng {count_gen} thể loại phim.\")\n",
    "print(f\"Danh sách 10 thể loại phim phổ biến nhất:\\n {sum_gen[:10]}\")"
   ]
  },
  {
   "cell_type": "code",
   "execution_count": null,
   "metadata": {},
   "outputs": [],
   "source": []
  }
 ],
 "metadata": {
  "kernelspec": {
   "display_name": "Python 3",
   "language": "python",
   "name": "python3"
  },
  "language_info": {
   "codemirror_mode": {
    "name": "ipython",
    "version": 3
   },
   "file_extension": ".py",
   "mimetype": "text/x-python",
   "name": "python",
   "nbconvert_exporter": "python",
   "pygments_lexer": "ipython3",
   "version": "3.11.2"
  },
  "orig_nbformat": 4
 },
 "nbformat": 4,
 "nbformat_minor": 2
}
