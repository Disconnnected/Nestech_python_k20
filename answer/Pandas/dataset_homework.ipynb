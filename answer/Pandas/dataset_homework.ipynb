{
 "cells": [
  {
   "cell_type": "code",
   "execution_count": 4,
   "metadata": {},
   "outputs": [],
   "source": [
    "import numpy as np\n",
    "import pandas as pd\n",
    "import matplotlib.pyplot as plt"
   ]
  },
  {
   "cell_type": "code",
   "execution_count": 5,
   "metadata": {},
   "outputs": [
    {
     "name": "stdout",
     "output_type": "stream",
     "text": [
      "Index(['movieId', 'title', 'genres'], dtype='object')\n",
      "<class 'pandas.core.frame.DataFrame'>\n",
      "RangeIndex: 58098 entries, 0 to 58097\n",
      "Data columns (total 3 columns):\n",
      " #   Column   Non-Null Count  Dtype \n",
      "---  ------   --------------  ----- \n",
      " 0   movieId  58098 non-null  int64 \n",
      " 1   title    58098 non-null  object\n",
      " 2   genres   58098 non-null  object\n",
      "dtypes: int64(1), object(2)\n",
      "memory usage: 1.3+ MB\n",
      "None\n"
     ]
    }
   ],
   "source": [
    "df_movies = pd.DataFrame(pd.read_csv(\"..\\Pandas\\Dataset\\Popular Movies Datasets\\movies.csv\"))\n",
    "print(df_movies.columns)\n",
    "print(df_movies.info())"
   ]
  },
  {
   "cell_type": "code",
   "execution_count": 6,
   "metadata": {},
   "outputs": [
    {
     "name": "stdout",
     "output_type": "stream",
     "text": [
      "Index(['userId', 'movieId', 'tag', 'timestamp'], dtype='object')\n",
      "<class 'pandas.core.frame.DataFrame'>\n",
      "RangeIndex: 1108997 entries, 0 to 1108996\n",
      "Data columns (total 4 columns):\n",
      " #   Column     Non-Null Count    Dtype \n",
      "---  ------     --------------    ----- \n",
      " 0   userId     1108997 non-null  int64 \n",
      " 1   movieId    1108997 non-null  int64 \n",
      " 2   tag        1108981 non-null  object\n",
      " 3   timestamp  1108997 non-null  int64 \n",
      "dtypes: int64(3), object(1)\n",
      "memory usage: 33.8+ MB\n",
      "None\n"
     ]
    }
   ],
   "source": [
    "df_tags = pd.DataFrame(pd.read_csv(\"../Pandas/Dataset/Popular Movies Datasets/tags.csv\"))\n",
    "print(df_tags.columns)\n",
    "print(df_tags.info())"
   ]
  },
  {
   "cell_type": "code",
   "execution_count": 56,
   "metadata": {},
   "outputs": [
    {
     "data": {
      "text/html": [
       "<div>\n",
       "<style scoped>\n",
       "    .dataframe tbody tr th:only-of-type {\n",
       "        vertical-align: middle;\n",
       "    }\n",
       "\n",
       "    .dataframe tbody tr th {\n",
       "        vertical-align: top;\n",
       "    }\n",
       "\n",
       "    .dataframe thead th {\n",
       "        text-align: right;\n",
       "    }\n",
       "</style>\n",
       "<table border=\"1\" class=\"dataframe\">\n",
       "  <thead>\n",
       "    <tr style=\"text-align: right;\">\n",
       "      <th></th>\n",
       "      <th>movieId</th>\n",
       "      <th>tag</th>\n",
       "    </tr>\n",
       "  </thead>\n",
       "  <tbody>\n",
       "    <tr>\n",
       "      <th>0</th>\n",
       "      <td>110</td>\n",
       "      <td>epic, Medieval, overrated, Oscar (Best Picture...</td>\n",
       "    </tr>\n",
       "    <tr>\n",
       "      <th>2</th>\n",
       "      <td>260</td>\n",
       "      <td>sci-fi, space action, classic sci-fi, Harrison...</td>\n",
       "    </tr>\n",
       "    <tr>\n",
       "      <th>4</th>\n",
       "      <td>318</td>\n",
       "      <td>imdb top 250, justice, story line, hope, inspi...</td>\n",
       "    </tr>\n",
       "    <tr>\n",
       "      <th>6</th>\n",
       "      <td>480</td>\n",
       "      <td>Dinosaurs, dinosaurs, action, thriller, dinosa...</td>\n",
       "    </tr>\n",
       "    <tr>\n",
       "      <th>7</th>\n",
       "      <td>593</td>\n",
       "      <td>psychothriller, brilliant, exploratory, ligne ...</td>\n",
       "    </tr>\n",
       "    <tr>\n",
       "      <th>...</th>\n",
       "      <td>...</td>\n",
       "      <td>...</td>\n",
       "    </tr>\n",
       "    <tr>\n",
       "      <th>1102474</th>\n",
       "      <td>157365</td>\n",
       "      <td>1001 nights tales, djinn, soviet classics</td>\n",
       "    </tr>\n",
       "    <tr>\n",
       "      <th>1102484</th>\n",
       "      <td>164445</td>\n",
       "      <td>betrayal, Norway, oil and gas, resistance, Rus...</td>\n",
       "    </tr>\n",
       "    <tr>\n",
       "      <th>1102490</th>\n",
       "      <td>164447</td>\n",
       "      <td>investigation, polish, robots, Soviet, space, ...</td>\n",
       "    </tr>\n",
       "    <tr>\n",
       "      <th>1102501</th>\n",
       "      <td>164453</td>\n",
       "      <td>20s, engineer, soviet classics</td>\n",
       "    </tr>\n",
       "    <tr>\n",
       "      <th>1108531</th>\n",
       "      <td>91960</td>\n",
       "      <td>Amazingly Bad, Effeminate Tree, Riff Trax Fodder</td>\n",
       "    </tr>\n",
       "  </tbody>\n",
       "</table>\n",
       "<p>45981 rows × 2 columns</p>\n",
       "</div>"
      ],
      "text/plain": [
       "         movieId                                                tag\n",
       "0            110  epic, Medieval, overrated, Oscar (Best Picture...\n",
       "2            260  sci-fi, space action, classic sci-fi, Harrison...\n",
       "4            318  imdb top 250, justice, story line, hope, inspi...\n",
       "6            480  Dinosaurs, dinosaurs, action, thriller, dinosa...\n",
       "7            593  psychothriller, brilliant, exploratory, ligne ...\n",
       "...          ...                                                ...\n",
       "1102474   157365          1001 nights tales, djinn, soviet classics\n",
       "1102484   164445  betrayal, Norway, oil and gas, resistance, Rus...\n",
       "1102490   164447  investigation, polish, robots, Soviet, space, ...\n",
       "1102501   164453                     20s, engineer, soviet classics\n",
       "1108531    91960   Amazingly Bad, Effeminate Tree, Riff Trax Fodder\n",
       "\n",
       "[45981 rows x 2 columns]"
      ]
     },
     "execution_count": 56,
     "metadata": {},
     "output_type": "execute_result"
    }
   ],
   "source": [
    "c_tag = df_tags.drop(columns=[\"userId\",\"timestamp\"])\n",
    "c_tag[\"tag\"] = c_tag[\"tag\"].astype(\"str\")\n",
    "c_tag[\"tag\"] = c_tag.groupby([\"movieId\"])[\"tag\"].transform(lambda x: \", \".join(x))\n",
    "c_tag = c_tag.drop_duplicates()\n",
    "c_tag\n"
   ]
  },
  {
   "cell_type": "code",
   "execution_count": 7,
   "metadata": {},
   "outputs": [
    {
     "name": "stdout",
     "output_type": "stream",
     "text": [
      "Index(['userId', 'movieId', 'rating', 'timestamp'], dtype='object')\n",
      "<class 'pandas.core.frame.DataFrame'>\n",
      "RangeIndex: 27753444 entries, 0 to 27753443\n",
      "Data columns (total 4 columns):\n",
      " #   Column     Dtype  \n",
      "---  ------     -----  \n",
      " 0   userId     int64  \n",
      " 1   movieId    int64  \n",
      " 2   rating     float64\n",
      " 3   timestamp  int64  \n",
      "dtypes: float64(1), int64(3)\n",
      "memory usage: 847.0 MB\n",
      "None\n"
     ]
    }
   ],
   "source": [
    "df_ratings = pd.DataFrame(pd.read_csv(\"../Pandas/Dataset/Popular Movies Datasets/ratings.csv\"))\n",
    "print(df_ratings.columns)\n",
    "print(df_ratings.info())"
   ]
  },
  {
   "cell_type": "code",
   "execution_count": 8,
   "metadata": {},
   "outputs": [
    {
     "name": "stdout",
     "output_type": "stream",
     "text": [
      "Index(['movieId', 'imdbId', 'tmdbId'], dtype='object')\n",
      "<class 'pandas.core.frame.DataFrame'>\n",
      "RangeIndex: 58098 entries, 0 to 58097\n",
      "Data columns (total 3 columns):\n",
      " #   Column   Non-Null Count  Dtype  \n",
      "---  ------   --------------  -----  \n",
      " 0   movieId  58098 non-null  int64  \n",
      " 1   imdbId   58098 non-null  int64  \n",
      " 2   tmdbId   57917 non-null  float64\n",
      "dtypes: float64(1), int64(2)\n",
      "memory usage: 1.3 MB\n",
      "None\n"
     ]
    }
   ],
   "source": [
    "df_links = pd.DataFrame(pd.read_csv(\"..\\Pandas\\Dataset\\Popular Movies Datasets\\links.csv\"))\n",
    "print(df_links.columns)\n",
    "print(df_links.info())"
   ]
  },
  {
   "cell_type": "code",
   "execution_count": 9,
   "metadata": {},
   "outputs": [],
   "source": [
    "#Merge and average ratings\n",
    "mnc_rate = df_ratings.groupby(\"movieId\").rating.mean().round(1).to_frame(\"rating\").reset_index()"
   ]
  },
  {
   "cell_type": "code",
   "execution_count": 57,
   "metadata": {},
   "outputs": [],
   "source": [
    "#Combine\n",
    "data = pd.merge(df_movies,c_tag, on='movieId')\n",
    "data = pd.merge(data,mnc_rate[['movieId', 'rating']], on='movieId')\n",
    "data = pd.merge(data,df_links,on='movieId')"
   ]
  },
  {
   "cell_type": "code",
   "execution_count": 59,
   "metadata": {},
   "outputs": [],
   "source": [
    "data[\"tmdbId\"] = data[\"tmdbId\"].fillna(0)"
   ]
  },
  {
   "cell_type": "code",
   "execution_count": 60,
   "metadata": {},
   "outputs": [],
   "source": [
    "data[\"imdbId\"] = data[\"imdbId\"].astype(\"int64\")\n",
    "data[\"tmdbId\"] = data[\"tmdbId\"].astype(\"int64\")"
   ]
  },
  {
   "cell_type": "code",
   "execution_count": 62,
   "metadata": {},
   "outputs": [
    {
     "data": {
      "text/plain": [
       "movieId    0\n",
       "title      0\n",
       "genres     0\n",
       "tag        0\n",
       "rating     0\n",
       "imdbId     0\n",
       "tmdbId     0\n",
       "dtype: int64"
      ]
     },
     "execution_count": 62,
     "metadata": {},
     "output_type": "execute_result"
    }
   ],
   "source": [
    "data.isnull().sum()"
   ]
  },
  {
   "cell_type": "code",
   "execution_count": null,
   "metadata": {},
   "outputs": [],
   "source": []
  }
 ],
 "metadata": {
  "kernelspec": {
   "display_name": "Python 3",
   "language": "python",
   "name": "python3"
  },
  "language_info": {
   "codemirror_mode": {
    "name": "ipython",
    "version": 3
   },
   "file_extension": ".py",
   "mimetype": "text/x-python",
   "name": "python",
   "nbconvert_exporter": "python",
   "pygments_lexer": "ipython3",
   "version": "3.11.2"
  },
  "orig_nbformat": 4
 },
 "nbformat": 4,
 "nbformat_minor": 2
}
