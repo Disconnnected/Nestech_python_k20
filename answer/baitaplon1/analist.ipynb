{
 "cells": [
  {
   "cell_type": "code",
   "execution_count": 160,
   "metadata": {},
   "outputs": [],
   "source": [
    "import pandas as pd\n",
    "import numpy as np\n",
    "import matplotlib.pyplot as plt\n",
    "import math"
   ]
  },
  {
   "cell_type": "markdown",
   "metadata": {},
   "source": [
    "## Khám phá dataset Google Play Store Apps\n",
    "#### lấy mẫu 500k từ dataset hơn 2 triệu apps\n",
    "https://www.kaggle.com/datasets/gauthamp10/google-playstore-apps"
   ]
  },
  {
   "cell_type": "code",
   "execution_count": 161,
   "metadata": {},
   "outputs": [
    {
     "name": "stdout",
     "output_type": "stream",
     "text": [
      "(300000, 24)\n",
      "Index(['App Name', 'App Id', 'Category', 'Rating', 'Rating Count', 'Installs',\n",
      "       'Minimum Installs', 'Maximum Installs', 'Free', 'Price', 'Currency',\n",
      "       'Size', 'Minimum Android', 'Developer Id', 'Developer Website',\n",
      "       'Developer Email', 'Released', 'Last Updated', 'Content Rating',\n",
      "       'Privacy Policy', 'Ad Supported', 'In App Purchases', 'Editors Choice',\n",
      "       'Scraped Time'],\n",
      "      dtype='object')\n"
     ]
    },
    {
     "data": {
      "text/html": [
       "<div>\n",
       "<style scoped>\n",
       "    .dataframe tbody tr th:only-of-type {\n",
       "        vertical-align: middle;\n",
       "    }\n",
       "\n",
       "    .dataframe tbody tr th {\n",
       "        vertical-align: top;\n",
       "    }\n",
       "\n",
       "    .dataframe thead th {\n",
       "        text-align: right;\n",
       "    }\n",
       "</style>\n",
       "<table border=\"1\" class=\"dataframe\">\n",
       "  <thead>\n",
       "    <tr style=\"text-align: right;\">\n",
       "      <th></th>\n",
       "      <th>App Name</th>\n",
       "      <th>App Id</th>\n",
       "      <th>Category</th>\n",
       "      <th>Rating</th>\n",
       "      <th>Rating Count</th>\n",
       "      <th>Installs</th>\n",
       "      <th>Minimum Installs</th>\n",
       "      <th>Maximum Installs</th>\n",
       "      <th>Free</th>\n",
       "      <th>Price</th>\n",
       "      <th>...</th>\n",
       "      <th>Developer Website</th>\n",
       "      <th>Developer Email</th>\n",
       "      <th>Released</th>\n",
       "      <th>Last Updated</th>\n",
       "      <th>Content Rating</th>\n",
       "      <th>Privacy Policy</th>\n",
       "      <th>Ad Supported</th>\n",
       "      <th>In App Purchases</th>\n",
       "      <th>Editors Choice</th>\n",
       "      <th>Scraped Time</th>\n",
       "    </tr>\n",
       "  </thead>\n",
       "  <tbody>\n",
       "    <tr>\n",
       "      <th>0</th>\n",
       "      <td>be.MOBILISED</td>\n",
       "      <td>com.hastobe.bemobilised</td>\n",
       "      <td>Maps &amp; Navigation</td>\n",
       "      <td>0.0</td>\n",
       "      <td>0.0</td>\n",
       "      <td>100+</td>\n",
       "      <td>100.0</td>\n",
       "      <td>274</td>\n",
       "      <td>True</td>\n",
       "      <td>0.0</td>\n",
       "      <td>...</td>\n",
       "      <td>http://www.has-to-be.com</td>\n",
       "      <td>support@has-to-be.com</td>\n",
       "      <td>Feb 9, 2020</td>\n",
       "      <td>May 14, 2021</td>\n",
       "      <td>Everyone</td>\n",
       "      <td>https://has-to-be.com/de/ueber-uns/datenschutz...</td>\n",
       "      <td>False</td>\n",
       "      <td>False</td>\n",
       "      <td>False</td>\n",
       "      <td>2021-06-15 20:19:36</td>\n",
       "    </tr>\n",
       "    <tr>\n",
       "      <th>1</th>\n",
       "      <td>OTENTIK Discovery FR</td>\n",
       "      <td>com.camineo.otentikdiscoveryDLFR</td>\n",
       "      <td>Travel &amp; Local</td>\n",
       "      <td>3.4</td>\n",
       "      <td>5.0</td>\n",
       "      <td>500+</td>\n",
       "      <td>500.0</td>\n",
       "      <td>949</td>\n",
       "      <td>True</td>\n",
       "      <td>0.0</td>\n",
       "      <td>...</td>\n",
       "      <td>http://www.hotels-attitude.com</td>\n",
       "      <td>info@hotels-attitude.com</td>\n",
       "      <td>Nov 28, 2016</td>\n",
       "      <td>Oct 30, 2019</td>\n",
       "      <td>Everyone</td>\n",
       "      <td>http://camineo.com/w7WEW99wBsdTH2FuyOeTQACM6mc...</td>\n",
       "      <td>False</td>\n",
       "      <td>False</td>\n",
       "      <td>False</td>\n",
       "      <td>2021-06-15 20:19:36</td>\n",
       "    </tr>\n",
       "    <tr>\n",
       "      <th>2</th>\n",
       "      <td>Nepali Congress</td>\n",
       "      <td>np.com.NepaliCongress</td>\n",
       "      <td>Social</td>\n",
       "      <td>0.0</td>\n",
       "      <td>0.0</td>\n",
       "      <td>100+</td>\n",
       "      <td>100.0</td>\n",
       "      <td>336</td>\n",
       "      <td>True</td>\n",
       "      <td>0.0</td>\n",
       "      <td>...</td>\n",
       "      <td>https://nepalicongress.org</td>\n",
       "      <td>info@nepalicongress.org</td>\n",
       "      <td>May 31, 2021</td>\n",
       "      <td>May 31, 2021</td>\n",
       "      <td>Everyone</td>\n",
       "      <td>https://nepalicongress.org/page/privacy-policy</td>\n",
       "      <td>False</td>\n",
       "      <td>False</td>\n",
       "      <td>False</td>\n",
       "      <td>2021-06-15 20:19:36</td>\n",
       "    </tr>\n",
       "    <tr>\n",
       "      <th>3</th>\n",
       "      <td>CUBIC RUNNER</td>\n",
       "      <td>jp.ga_software.cubicrunner</td>\n",
       "      <td>Arcade</td>\n",
       "      <td>0.0</td>\n",
       "      <td>0.0</td>\n",
       "      <td>1,000+</td>\n",
       "      <td>1000.0</td>\n",
       "      <td>1068</td>\n",
       "      <td>True</td>\n",
       "      <td>0.0</td>\n",
       "      <td>...</td>\n",
       "      <td>http://ga-software.blogspot.jp/</td>\n",
       "      <td>gasoftwarejp@gmail.com</td>\n",
       "      <td>Apr 1, 2015</td>\n",
       "      <td>Apr 16, 2015</td>\n",
       "      <td>Everyone</td>\n",
       "      <td>NaN</td>\n",
       "      <td>True</td>\n",
       "      <td>True</td>\n",
       "      <td>False</td>\n",
       "      <td>2021-06-15 20:19:37</td>\n",
       "    </tr>\n",
       "    <tr>\n",
       "      <th>4</th>\n",
       "      <td>Creepy Story</td>\n",
       "      <td>com.creepypasta.club</td>\n",
       "      <td>Entertainment</td>\n",
       "      <td>0.0</td>\n",
       "      <td>0.0</td>\n",
       "      <td>10+</td>\n",
       "      <td>10.0</td>\n",
       "      <td>22</td>\n",
       "      <td>True</td>\n",
       "      <td>0.0</td>\n",
       "      <td>...</td>\n",
       "      <td>NaN</td>\n",
       "      <td>andizulmai@gmail.com</td>\n",
       "      <td>May 28, 2019</td>\n",
       "      <td>May 30, 2019</td>\n",
       "      <td>Teen</td>\n",
       "      <td>http://hidayah.club/creepystory_privacy_policy...</td>\n",
       "      <td>True</td>\n",
       "      <td>False</td>\n",
       "      <td>False</td>\n",
       "      <td>2021-06-15 20:19:37</td>\n",
       "    </tr>\n",
       "  </tbody>\n",
       "</table>\n",
       "<p>5 rows × 24 columns</p>\n",
       "</div>"
      ],
      "text/plain": [
       "               App Name                            App Id           Category  \\\n",
       "0          be.MOBILISED           com.hastobe.bemobilised  Maps & Navigation   \n",
       "1  OTENTIK Discovery FR  com.camineo.otentikdiscoveryDLFR     Travel & Local   \n",
       "2       Nepali Congress             np.com.NepaliCongress             Social   \n",
       "3          CUBIC RUNNER        jp.ga_software.cubicrunner             Arcade   \n",
       "4          Creepy Story              com.creepypasta.club      Entertainment   \n",
       "\n",
       "   Rating  Rating Count Installs  Minimum Installs  Maximum Installs  Free  \\\n",
       "0     0.0           0.0     100+             100.0               274  True   \n",
       "1     3.4           5.0     500+             500.0               949  True   \n",
       "2     0.0           0.0     100+             100.0               336  True   \n",
       "3     0.0           0.0   1,000+            1000.0              1068  True   \n",
       "4     0.0           0.0      10+              10.0                22  True   \n",
       "\n",
       "   Price  ...                Developer Website           Developer Email  \\\n",
       "0    0.0  ...         http://www.has-to-be.com     support@has-to-be.com   \n",
       "1    0.0  ...   http://www.hotels-attitude.com  info@hotels-attitude.com   \n",
       "2    0.0  ...       https://nepalicongress.org   info@nepalicongress.org   \n",
       "3    0.0  ...  http://ga-software.blogspot.jp/    gasoftwarejp@gmail.com   \n",
       "4    0.0  ...                              NaN      andizulmai@gmail.com   \n",
       "\n",
       "       Released  Last Updated Content Rating  \\\n",
       "0   Feb 9, 2020  May 14, 2021       Everyone   \n",
       "1  Nov 28, 2016  Oct 30, 2019       Everyone   \n",
       "2  May 31, 2021  May 31, 2021       Everyone   \n",
       "3   Apr 1, 2015  Apr 16, 2015       Everyone   \n",
       "4  May 28, 2019  May 30, 2019           Teen   \n",
       "\n",
       "                                      Privacy Policy Ad Supported  \\\n",
       "0  https://has-to-be.com/de/ueber-uns/datenschutz...        False   \n",
       "1  http://camineo.com/w7WEW99wBsdTH2FuyOeTQACM6mc...        False   \n",
       "2     https://nepalicongress.org/page/privacy-policy        False   \n",
       "3                                                NaN         True   \n",
       "4  http://hidayah.club/creepystory_privacy_policy...         True   \n",
       "\n",
       "  In App Purchases Editors Choice         Scraped Time  \n",
       "0            False          False  2021-06-15 20:19:36  \n",
       "1            False          False  2021-06-15 20:19:36  \n",
       "2            False          False  2021-06-15 20:19:36  \n",
       "3             True          False  2021-06-15 20:19:37  \n",
       "4            False          False  2021-06-15 20:19:37  \n",
       "\n",
       "[5 rows x 24 columns]"
      ]
     },
     "execution_count": 161,
     "metadata": {},
     "output_type": "execute_result"
    }
   ],
   "source": [
    "df = pd.read_csv('Google-Playstore-Apps-300k.csv',parse_dates=True)\n",
    "print(df.shape)\n",
    "print(df.columns)\n",
    "df.head(5)"
   ]
  },
  {
   "cell_type": "markdown",
   "metadata": {},
   "source": [
    "### Chọn các cols cần thiết cho phân tích"
   ]
  },
  {
   "cell_type": "code",
   "execution_count": 162,
   "metadata": {},
   "outputs": [
    {
     "data": {
      "text/html": [
       "<div>\n",
       "<style scoped>\n",
       "    .dataframe tbody tr th:only-of-type {\n",
       "        vertical-align: middle;\n",
       "    }\n",
       "\n",
       "    .dataframe tbody tr th {\n",
       "        vertical-align: top;\n",
       "    }\n",
       "\n",
       "    .dataframe thead th {\n",
       "        text-align: right;\n",
       "    }\n",
       "</style>\n",
       "<table border=\"1\" class=\"dataframe\">\n",
       "  <thead>\n",
       "    <tr style=\"text-align: right;\">\n",
       "      <th></th>\n",
       "      <th>App Name</th>\n",
       "      <th>Category</th>\n",
       "      <th>Rating</th>\n",
       "      <th>Rating Count</th>\n",
       "      <th>Minimum Installs</th>\n",
       "      <th>Maximum Installs</th>\n",
       "      <th>Free</th>\n",
       "      <th>Price</th>\n",
       "      <th>Size</th>\n",
       "      <th>Released</th>\n",
       "    </tr>\n",
       "  </thead>\n",
       "  <tbody>\n",
       "    <tr>\n",
       "      <th>0</th>\n",
       "      <td>be.MOBILISED</td>\n",
       "      <td>Maps &amp; Navigation</td>\n",
       "      <td>0.0</td>\n",
       "      <td>0.0</td>\n",
       "      <td>100.0</td>\n",
       "      <td>274</td>\n",
       "      <td>True</td>\n",
       "      <td>0.0</td>\n",
       "      <td>15M</td>\n",
       "      <td>Feb 9, 2020</td>\n",
       "    </tr>\n",
       "    <tr>\n",
       "      <th>1</th>\n",
       "      <td>OTENTIK Discovery FR</td>\n",
       "      <td>Travel &amp; Local</td>\n",
       "      <td>3.4</td>\n",
       "      <td>5.0</td>\n",
       "      <td>500.0</td>\n",
       "      <td>949</td>\n",
       "      <td>True</td>\n",
       "      <td>0.0</td>\n",
       "      <td>2.9M</td>\n",
       "      <td>Nov 28, 2016</td>\n",
       "    </tr>\n",
       "    <tr>\n",
       "      <th>2</th>\n",
       "      <td>Nepali Congress</td>\n",
       "      <td>Social</td>\n",
       "      <td>0.0</td>\n",
       "      <td>0.0</td>\n",
       "      <td>100.0</td>\n",
       "      <td>336</td>\n",
       "      <td>True</td>\n",
       "      <td>0.0</td>\n",
       "      <td>24M</td>\n",
       "      <td>May 31, 2021</td>\n",
       "    </tr>\n",
       "  </tbody>\n",
       "</table>\n",
       "</div>"
      ],
      "text/plain": [
       "               App Name           Category  Rating  Rating Count  \\\n",
       "0          be.MOBILISED  Maps & Navigation     0.0           0.0   \n",
       "1  OTENTIK Discovery FR     Travel & Local     3.4           5.0   \n",
       "2       Nepali Congress             Social     0.0           0.0   \n",
       "\n",
       "   Minimum Installs  Maximum Installs  Free  Price  Size      Released  \n",
       "0             100.0               274  True    0.0   15M   Feb 9, 2020  \n",
       "1             500.0               949  True    0.0  2.9M  Nov 28, 2016  \n",
       "2             100.0               336  True    0.0   24M  May 31, 2021  "
      ]
     },
     "execution_count": 162,
     "metadata": {},
     "output_type": "execute_result"
    }
   ],
   "source": [
    "data = df[[\"App Name\", \"Category\", \"Rating\", \"Rating Count\",\"Minimum Installs\",\"Maximum Installs\", \"Free\",\"Price\",\"Size\",\"Released\"]]\n",
    "data.head(3)\n"
   ]
  },
  {
   "cell_type": "markdown",
   "metadata": {},
   "source": [
    "### Check sơ lượt dataset\n"
   ]
  },
  {
   "cell_type": "code",
   "execution_count": 163,
   "metadata": {},
   "outputs": [
    {
     "name": "stdout",
     "output_type": "stream",
     "text": [
      "(300000, 10)\n",
      "<class 'pandas.core.frame.DataFrame'>\n",
      "RangeIndex: 300000 entries, 0 to 299999\n",
      "Data columns (total 10 columns):\n",
      " #   Column            Non-Null Count   Dtype  \n",
      "---  ------            --------------   -----  \n",
      " 0   App Name          299999 non-null  object \n",
      " 1   Category          300000 non-null  object \n",
      " 2   Rating            297032 non-null  float64\n",
      " 3   Rating Count      297032 non-null  float64\n",
      " 4   Minimum Installs  299983 non-null  float64\n",
      " 5   Maximum Installs  300000 non-null  int64  \n",
      " 6   Free              300000 non-null  bool   \n",
      " 7   Price             300000 non-null  float64\n",
      " 8   Size              299974 non-null  object \n",
      " 9   Released          290654 non-null  object \n",
      "dtypes: bool(1), float64(4), int64(1), object(4)\n",
      "memory usage: 20.9+ MB\n",
      "None\n"
     ]
    }
   ],
   "source": [
    "print(data.shape)\n",
    "print(data.info())"
   ]
  },
  {
   "cell_type": "code",
   "execution_count": 164,
   "metadata": {},
   "outputs": [
    {
     "name": "stdout",
     "output_type": "stream",
     "text": [
      "           App Name   Category         Rating  Rating Count  Minimum Installs  \\\n",
      "count        299999     300000  297032.000000  2.970320e+05      2.999830e+05   \n",
      "unique       294629         48            NaN           NaN               NaN   \n",
      "top     Tic Tac Toe  Education            NaN           NaN               NaN   \n",
      "freq             47      31129            NaN           NaN               NaN   \n",
      "mean            NaN        NaN       2.199983  2.206330e+03      1.812697e+05   \n",
      "std             NaN        NaN       2.106347  6.655720e+04      1.425936e+07   \n",
      "min             NaN        NaN       0.000000  0.000000e+00      0.000000e+00   \n",
      "25%             NaN        NaN       0.000000  0.000000e+00      5.000000e+01   \n",
      "50%             NaN        NaN       2.900000  6.000000e+00      5.000000e+02   \n",
      "75%             NaN        NaN       4.300000  4.200000e+01      5.000000e+03   \n",
      "max             NaN        NaN       5.000000  1.429116e+07      5.000000e+09   \n",
      "\n",
      "        Maximum Installs    Free          Price                Size  \\\n",
      "count       3.000000e+05  300000  300000.000000              299974   \n",
      "unique               NaN       2            NaN                1391   \n",
      "top                  NaN    True            NaN  Varies with device   \n",
      "freq                 NaN  294190            NaN                9799   \n",
      "mean        3.149755e+05     NaN       0.105669                 NaN   \n",
      "std         2.090636e+07     NaN       2.821090                 NaN   \n",
      "min         0.000000e+00     NaN       0.000000                 NaN   \n",
      "25%         8.400000e+01     NaN       0.000000                 NaN   \n",
      "50%         6.920000e+02     NaN       0.000000                 NaN   \n",
      "75%         7.389000e+03     NaN       0.000000                 NaN   \n",
      "max         7.028265e+09     NaN     399.990000                 NaN   \n",
      "\n",
      "            Released  \n",
      "count         290654  \n",
      "unique          4069  \n",
      "top     Feb 27, 2020  \n",
      "freq             281  \n",
      "mean             NaN  \n",
      "std              NaN  \n",
      "min              NaN  \n",
      "25%              NaN  \n",
      "50%              NaN  \n",
      "75%              NaN  \n",
      "max              NaN  \n"
     ]
    }
   ],
   "source": [
    "print(data.describe(include='all'))"
   ]
  },
  {
   "cell_type": "code",
   "execution_count": 159,
   "metadata": {},
   "outputs": [
    {
     "data": {
      "text/html": [
       "<div>\n",
       "<style scoped>\n",
       "    .dataframe tbody tr th:only-of-type {\n",
       "        vertical-align: middle;\n",
       "    }\n",
       "\n",
       "    .dataframe tbody tr th {\n",
       "        vertical-align: top;\n",
       "    }\n",
       "\n",
       "    .dataframe thead th {\n",
       "        text-align: right;\n",
       "    }\n",
       "</style>\n",
       "<table border=\"1\" class=\"dataframe\">\n",
       "  <thead>\n",
       "    <tr style=\"text-align: right;\">\n",
       "      <th></th>\n",
       "      <th>App Name</th>\n",
       "      <th>Category</th>\n",
       "      <th>Rating</th>\n",
       "      <th>Rating Count</th>\n",
       "      <th>Minimum Installs</th>\n",
       "      <th>Maximum Installs</th>\n",
       "      <th>Free</th>\n",
       "      <th>Price</th>\n",
       "      <th>Size</th>\n",
       "      <th>Released</th>\n",
       "    </tr>\n",
       "  </thead>\n",
       "  <tbody>\n",
       "    <tr>\n",
       "      <th>0</th>\n",
       "      <td>be.MOBILISED</td>\n",
       "      <td>Maps &amp; Navigation</td>\n",
       "      <td>0.0</td>\n",
       "      <td>0.0</td>\n",
       "      <td>100.0</td>\n",
       "      <td>274</td>\n",
       "      <td>True</td>\n",
       "      <td>0.0</td>\n",
       "      <td>15M</td>\n",
       "      <td>Feb 9, 2020</td>\n",
       "    </tr>\n",
       "    <tr>\n",
       "      <th>1</th>\n",
       "      <td>OTENTIK Discovery FR</td>\n",
       "      <td>Travel &amp; Local</td>\n",
       "      <td>3.4</td>\n",
       "      <td>5.0</td>\n",
       "      <td>500.0</td>\n",
       "      <td>949</td>\n",
       "      <td>True</td>\n",
       "      <td>0.0</td>\n",
       "      <td>2.9M</td>\n",
       "      <td>Nov 28, 2016</td>\n",
       "    </tr>\n",
       "    <tr>\n",
       "      <th>2</th>\n",
       "      <td>Nepali Congress</td>\n",
       "      <td>Social</td>\n",
       "      <td>0.0</td>\n",
       "      <td>0.0</td>\n",
       "      <td>100.0</td>\n",
       "      <td>336</td>\n",
       "      <td>True</td>\n",
       "      <td>0.0</td>\n",
       "      <td>24M</td>\n",
       "      <td>May 31, 2021</td>\n",
       "    </tr>\n",
       "    <tr>\n",
       "      <th>3</th>\n",
       "      <td>CUBIC RUNNER</td>\n",
       "      <td>Arcade</td>\n",
       "      <td>0.0</td>\n",
       "      <td>0.0</td>\n",
       "      <td>1000.0</td>\n",
       "      <td>1068</td>\n",
       "      <td>True</td>\n",
       "      <td>0.0</td>\n",
       "      <td>16M</td>\n",
       "      <td>Apr 1, 2015</td>\n",
       "    </tr>\n",
       "    <tr>\n",
       "      <th>4</th>\n",
       "      <td>Creepy Story</td>\n",
       "      <td>Entertainment</td>\n",
       "      <td>0.0</td>\n",
       "      <td>0.0</td>\n",
       "      <td>10.0</td>\n",
       "      <td>22</td>\n",
       "      <td>True</td>\n",
       "      <td>0.0</td>\n",
       "      <td>6.1M</td>\n",
       "      <td>May 28, 2019</td>\n",
       "    </tr>\n",
       "    <tr>\n",
       "      <th>...</th>\n",
       "      <td>...</td>\n",
       "      <td>...</td>\n",
       "      <td>...</td>\n",
       "      <td>...</td>\n",
       "      <td>...</td>\n",
       "      <td>...</td>\n",
       "      <td>...</td>\n",
       "      <td>...</td>\n",
       "      <td>...</td>\n",
       "      <td>...</td>\n",
       "    </tr>\n",
       "    <tr>\n",
       "      <th>299995</th>\n",
       "      <td>ハーマイオニー育成キット</td>\n",
       "      <td>Simulation</td>\n",
       "      <td>0.0</td>\n",
       "      <td>0.0</td>\n",
       "      <td>50.0</td>\n",
       "      <td>52</td>\n",
       "      <td>True</td>\n",
       "      <td>0.0</td>\n",
       "      <td>5.3M</td>\n",
       "      <td>Jan 6, 2019</td>\n",
       "    </tr>\n",
       "    <tr>\n",
       "      <th>299996</th>\n",
       "      <td>AA LIMO SERVICE WORLDWIDE</td>\n",
       "      <td>Maps &amp; Navigation</td>\n",
       "      <td>0.0</td>\n",
       "      <td>0.0</td>\n",
       "      <td>10.0</td>\n",
       "      <td>16</td>\n",
       "      <td>True</td>\n",
       "      <td>0.0</td>\n",
       "      <td>13M</td>\n",
       "      <td>Sep 18, 2020</td>\n",
       "    </tr>\n",
       "    <tr>\n",
       "      <th>299997</th>\n",
       "      <td>ITI Electrician MCQ</td>\n",
       "      <td>Education</td>\n",
       "      <td>4.5</td>\n",
       "      <td>1618.0</td>\n",
       "      <td>50000.0</td>\n",
       "      <td>89459</td>\n",
       "      <td>True</td>\n",
       "      <td>0.0</td>\n",
       "      <td>37M</td>\n",
       "      <td>Aug 9, 2019</td>\n",
       "    </tr>\n",
       "    <tr>\n",
       "      <th>299998</th>\n",
       "      <td>TSV Wankendorf von 1906 e.V.</td>\n",
       "      <td>Sports</td>\n",
       "      <td>5.0</td>\n",
       "      <td>10.0</td>\n",
       "      <td>100.0</td>\n",
       "      <td>354</td>\n",
       "      <td>True</td>\n",
       "      <td>0.0</td>\n",
       "      <td>15M</td>\n",
       "      <td>Mar 11, 2016</td>\n",
       "    </tr>\n",
       "    <tr>\n",
       "      <th>299999</th>\n",
       "      <td>Telcoin</td>\n",
       "      <td>Finance</td>\n",
       "      <td>4.2</td>\n",
       "      <td>667.0</td>\n",
       "      <td>10000.0</td>\n",
       "      <td>26745</td>\n",
       "      <td>True</td>\n",
       "      <td>0.0</td>\n",
       "      <td>32M</td>\n",
       "      <td>Jul 3, 2019</td>\n",
       "    </tr>\n",
       "  </tbody>\n",
       "</table>\n",
       "<p>299999 rows × 10 columns</p>\n",
       "</div>"
      ],
      "text/plain": [
       "                            App Name           Category  Rating  Rating Count  \\\n",
       "0                       be.MOBILISED  Maps & Navigation     0.0           0.0   \n",
       "1               OTENTIK Discovery FR     Travel & Local     3.4           5.0   \n",
       "2                    Nepali Congress             Social     0.0           0.0   \n",
       "3                       CUBIC RUNNER             Arcade     0.0           0.0   \n",
       "4                       Creepy Story      Entertainment     0.0           0.0   \n",
       "...                              ...                ...     ...           ...   \n",
       "299995                  ハーマイオニー育成キット         Simulation     0.0           0.0   \n",
       "299996     AA LIMO SERVICE WORLDWIDE  Maps & Navigation     0.0           0.0   \n",
       "299997           ITI Electrician MCQ          Education     4.5        1618.0   \n",
       "299998  TSV Wankendorf von 1906 e.V.             Sports     5.0          10.0   \n",
       "299999                       Telcoin            Finance     4.2         667.0   \n",
       "\n",
       "        Minimum Installs  Maximum Installs  Free  Price  Size      Released  \n",
       "0                  100.0               274  True    0.0   15M   Feb 9, 2020  \n",
       "1                  500.0               949  True    0.0  2.9M  Nov 28, 2016  \n",
       "2                  100.0               336  True    0.0   24M  May 31, 2021  \n",
       "3                 1000.0              1068  True    0.0   16M   Apr 1, 2015  \n",
       "4                   10.0                22  True    0.0  6.1M  May 28, 2019  \n",
       "...                  ...               ...   ...    ...   ...           ...  \n",
       "299995              50.0                52  True    0.0  5.3M   Jan 6, 2019  \n",
       "299996              10.0                16  True    0.0   13M  Sep 18, 2020  \n",
       "299997           50000.0             89459  True    0.0   37M   Aug 9, 2019  \n",
       "299998             100.0               354  True    0.0   15M  Mar 11, 2016  \n",
       "299999           10000.0             26745  True    0.0   32M   Jul 3, 2019  \n",
       "\n",
       "[299999 rows x 10 columns]"
      ]
     },
     "execution_count": 159,
     "metadata": {},
     "output_type": "execute_result"
    }
   ],
   "source": [
    "data = data.dropna(subset=[\"App Name\"])\n",
    "data\n",
    "# data.loc[data['App Name'].isna()]"
   ]
  },
  {
   "cell_type": "markdown",
   "metadata": {},
   "source": [
    "### cleaning data\n",
    "#### cleaning null"
   ]
  },
  {
   "cell_type": "code",
   "execution_count": 165,
   "metadata": {},
   "outputs": [],
   "source": [
    "# App Name: drop\n",
    "data = data.dropna(subset=[\"App Name\"])\n",
    "# Rating & Rating Count: replace = 0\n",
    "data[['Rating','Rating Count']] = data[['Rating','Rating Count']].replace(np.nan, 0)\n",
    "# Minimum Installs: replace = Maximum Installs / 2\n",
    "data['Minimum Installs'].fillna(data['Maximum Installs']/2, inplace=True)\n",
    "# Size: replace = '0M'\n",
    "data['Size'].fillna('0M', inplace=True)\n",
    "# Released: replace = Last Updated\n",
    "data['Released'].fillna(df['Last Updated'], inplace=True)"
   ]
  },
  {
   "cell_type": "code",
   "execution_count": 166,
   "metadata": {},
   "outputs": [
    {
     "name": "stdout",
     "output_type": "stream",
     "text": [
      "<class 'pandas.core.frame.DataFrame'>\n",
      "Int64Index: 299999 entries, 0 to 299999\n",
      "Data columns (total 10 columns):\n",
      " #   Column            Non-Null Count   Dtype  \n",
      "---  ------            --------------   -----  \n",
      " 0   App Name          299999 non-null  object \n",
      " 1   Category          299999 non-null  object \n",
      " 2   Rating            299999 non-null  float64\n",
      " 3   Rating Count      299999 non-null  float64\n",
      " 4   Minimum Installs  299999 non-null  float64\n",
      " 5   Maximum Installs  299999 non-null  int64  \n",
      " 6   Free              299999 non-null  bool   \n",
      " 7   Price             299999 non-null  float64\n",
      " 8   Size              299999 non-null  object \n",
      " 9   Released          299999 non-null  object \n",
      "dtypes: bool(1), float64(4), int64(1), object(4)\n",
      "memory usage: 23.2+ MB\n"
     ]
    }
   ],
   "source": [
    "data.info()"
   ]
  },
  {
   "cell_type": "markdown",
   "metadata": {},
   "source": [
    "#### duplicate"
   ]
  },
  {
   "cell_type": "code",
   "execution_count": 167,
   "metadata": {},
   "outputs": [
    {
     "data": {
      "text/plain": [
       "Series([], dtype: int64)"
      ]
     },
     "execution_count": 167,
     "metadata": {},
     "output_type": "execute_result"
    }
   ],
   "source": [
    "data.loc[data.duplicated()].value_counts()"
   ]
  },
  {
   "cell_type": "markdown",
   "metadata": {},
   "source": [
    "#### wrong format\n",
    "check wrong format"
   ]
  },
  {
   "cell_type": "code",
   "execution_count": 168,
   "metadata": {},
   "outputs": [
    {
     "name": "stdout",
     "output_type": "stream",
     "text": [
      "[<class 'str'>]\n",
      "['M', 'e', 'k', 'G']\n"
     ]
    }
   ],
   "source": [
    "## Size\n",
    "print(data['Size'].apply(lambda x: type(x)).unique())\n",
    "# => [<class 'str'>]\n",
    "print(data['Size'].str.slice(-1).value_counts().index.to_list())\n",
    "# ['M', 'e', 'k', 'G']"
   ]
  },
  {
   "cell_type": "code",
   "execution_count": 169,
   "metadata": {},
   "outputs": [
    {
     "data": {
      "text/plain": [
       "'2020-02-09'"
      ]
     },
     "execution_count": 169,
     "metadata": {},
     "output_type": "execute_result"
    }
   ],
   "source": [
    "# Released\n",
    "\n",
    "pd.to_datetime(data['Released'][0]).date().strftime('%Y-%m-%d')\n"
   ]
  },
  {
   "cell_type": "markdown",
   "metadata": {},
   "source": [
    "Xử lý format"
   ]
  },
  {
   "cell_type": "code",
   "execution_count": 170,
   "metadata": {},
   "outputs": [],
   "source": [
    "# Size\n",
    "data['Size'] = data['Size'].apply(lambda x: 0 if x == 'Varies with device' \n",
    "                                                else float(x[:-1].replace(\",\", \"\")) if x[-1] == 'M'\n",
    "                                                else float(x[:-1].replace(\",\", \"\"))*1024 if x[-1] == \"G\"\n",
    "                                                else float(x[:-1].replace(\",\", \"\"))/1024 if x[-1] == \"k\"\n",
    "                                                else 0)"
   ]
  },
  {
   "cell_type": "code",
   "execution_count": 171,
   "metadata": {},
   "outputs": [],
   "source": [
    "# Released chuyển định dạng Y-M-D\n",
    "data['Released'] = data['Released'].apply(lambda x : pd.to_datetime(x))\n",
    "# convert 'Rating Count' & 'Minimum Installs' to int64\n",
    "data['Rating Count'] = data['Rating Count'].astype('int64')\n",
    "data['Minimum Installs'] = data['Rating Count'].astype('int64')"
   ]
  },
  {
   "cell_type": "code",
   "execution_count": 172,
   "metadata": {},
   "outputs": [
    {
     "name": "stdout",
     "output_type": "stream",
     "text": [
      "<class 'pandas.core.frame.DataFrame'>\n",
      "Int64Index: 299999 entries, 0 to 299999\n",
      "Data columns (total 10 columns):\n",
      " #   Column            Non-Null Count   Dtype         \n",
      "---  ------            --------------   -----         \n",
      " 0   App Name          299999 non-null  object        \n",
      " 1   Category          299999 non-null  object        \n",
      " 2   Rating            299999 non-null  float64       \n",
      " 3   Rating Count      299999 non-null  int64         \n",
      " 4   Minimum Installs  299999 non-null  int64         \n",
      " 5   Maximum Installs  299999 non-null  int64         \n",
      " 6   Free              299999 non-null  bool          \n",
      " 7   Price             299999 non-null  float64       \n",
      " 8   Size              299999 non-null  float64       \n",
      " 9   Released          299999 non-null  datetime64[ns]\n",
      "dtypes: bool(1), datetime64[ns](1), float64(3), int64(3), object(2)\n",
      "memory usage: 31.2+ MB\n",
      "None\n"
     ]
    },
    {
     "data": {
      "text/html": [
       "<div>\n",
       "<style scoped>\n",
       "    .dataframe tbody tr th:only-of-type {\n",
       "        vertical-align: middle;\n",
       "    }\n",
       "\n",
       "    .dataframe tbody tr th {\n",
       "        vertical-align: top;\n",
       "    }\n",
       "\n",
       "    .dataframe thead th {\n",
       "        text-align: right;\n",
       "    }\n",
       "</style>\n",
       "<table border=\"1\" class=\"dataframe\">\n",
       "  <thead>\n",
       "    <tr style=\"text-align: right;\">\n",
       "      <th></th>\n",
       "      <th>App Name</th>\n",
       "      <th>Category</th>\n",
       "      <th>Rating</th>\n",
       "      <th>Rating Count</th>\n",
       "      <th>Minimum Installs</th>\n",
       "      <th>Maximum Installs</th>\n",
       "      <th>Free</th>\n",
       "      <th>Price</th>\n",
       "      <th>Size</th>\n",
       "      <th>Released</th>\n",
       "    </tr>\n",
       "  </thead>\n",
       "  <tbody>\n",
       "    <tr>\n",
       "      <th>0</th>\n",
       "      <td>be.MOBILISED</td>\n",
       "      <td>Maps &amp; Navigation</td>\n",
       "      <td>0.0</td>\n",
       "      <td>0</td>\n",
       "      <td>0</td>\n",
       "      <td>274</td>\n",
       "      <td>True</td>\n",
       "      <td>0.0</td>\n",
       "      <td>15.0</td>\n",
       "      <td>2020-02-09</td>\n",
       "    </tr>\n",
       "    <tr>\n",
       "      <th>1</th>\n",
       "      <td>OTENTIK Discovery FR</td>\n",
       "      <td>Travel &amp; Local</td>\n",
       "      <td>3.4</td>\n",
       "      <td>5</td>\n",
       "      <td>5</td>\n",
       "      <td>949</td>\n",
       "      <td>True</td>\n",
       "      <td>0.0</td>\n",
       "      <td>2.9</td>\n",
       "      <td>2016-11-28</td>\n",
       "    </tr>\n",
       "    <tr>\n",
       "      <th>2</th>\n",
       "      <td>Nepali Congress</td>\n",
       "      <td>Social</td>\n",
       "      <td>0.0</td>\n",
       "      <td>0</td>\n",
       "      <td>0</td>\n",
       "      <td>336</td>\n",
       "      <td>True</td>\n",
       "      <td>0.0</td>\n",
       "      <td>24.0</td>\n",
       "      <td>2021-05-31</td>\n",
       "    </tr>\n",
       "    <tr>\n",
       "      <th>3</th>\n",
       "      <td>CUBIC RUNNER</td>\n",
       "      <td>Arcade</td>\n",
       "      <td>0.0</td>\n",
       "      <td>0</td>\n",
       "      <td>0</td>\n",
       "      <td>1068</td>\n",
       "      <td>True</td>\n",
       "      <td>0.0</td>\n",
       "      <td>16.0</td>\n",
       "      <td>2015-04-01</td>\n",
       "    </tr>\n",
       "    <tr>\n",
       "      <th>4</th>\n",
       "      <td>Creepy Story</td>\n",
       "      <td>Entertainment</td>\n",
       "      <td>0.0</td>\n",
       "      <td>0</td>\n",
       "      <td>0</td>\n",
       "      <td>22</td>\n",
       "      <td>True</td>\n",
       "      <td>0.0</td>\n",
       "      <td>6.1</td>\n",
       "      <td>2019-05-28</td>\n",
       "    </tr>\n",
       "  </tbody>\n",
       "</table>\n",
       "</div>"
      ],
      "text/plain": [
       "               App Name           Category  Rating  Rating Count  \\\n",
       "0          be.MOBILISED  Maps & Navigation     0.0             0   \n",
       "1  OTENTIK Discovery FR     Travel & Local     3.4             5   \n",
       "2       Nepali Congress             Social     0.0             0   \n",
       "3          CUBIC RUNNER             Arcade     0.0             0   \n",
       "4          Creepy Story      Entertainment     0.0             0   \n",
       "\n",
       "   Minimum Installs  Maximum Installs  Free  Price  Size   Released  \n",
       "0                 0               274  True    0.0  15.0 2020-02-09  \n",
       "1                 5               949  True    0.0   2.9 2016-11-28  \n",
       "2                 0               336  True    0.0  24.0 2021-05-31  \n",
       "3                 0              1068  True    0.0  16.0 2015-04-01  \n",
       "4                 0                22  True    0.0   6.1 2019-05-28  "
      ]
     },
     "execution_count": 172,
     "metadata": {},
     "output_type": "execute_result"
    }
   ],
   "source": [
    "print(data.info())\n",
    "data.head(5)"
   ]
  },
  {
   "cell_type": "markdown",
   "metadata": {},
   "source": [
    "### Phân tích dữ liệu"
   ]
  },
  {
   "cell_type": "code",
   "execution_count": 197,
   "metadata": {},
   "outputs": [
    {
     "name": "stdout",
     "output_type": "stream",
     "text": [
      "Có tổng 48 categories\n",
      "Danh sách 10 categories phổ biến nhất:\n",
      "          Categories  Count\n",
      "0          Education  31129\n",
      "1      Music & Audio  20036\n",
      "2              Tools  18950\n",
      "3           Business  18439\n",
      "4      Entertainment  17898\n",
      "5          Lifestyle  15552\n",
      "6  Books & Reference  15089\n",
      "7    Personalization  11726\n",
      "8   Health & Fitness  10994\n",
      "9       Productivity  10155\n",
      "----------\n",
      "Vẽ biểu đồ pie so sánh tỷ lệ:\n",
      "[31129, 20036, 18950, 18439, 17898, 15552, 15089, 11726, 10994, 10155, 130031]\n"
     ]
    },
    {
     "data": {
      "image/png": "[encoded data removed]",
      "text/plain": [
       "<Figure size 600x300 with 1 Axes>"
      ]
     },
     "metadata": {},
     "output_type": "display_data"
    }
   ],
   "source": [
    "# Có bao nhiêu Categories? xuất ra danh sách top 10 Categories phổ biến nhất.\n",
    "categories = data['Category'].value_counts().to_frame(name='Count').reset_index().rename(columns={'index': 'Categories'})\n",
    "categories_count = categories.shape[0]\n",
    "print(f'Có tổng {categories_count} categories')\n",
    "print(f'Danh sách 10 categories phổ biến nhất:')\n",
    "print(categories[:10])\n",
    "\n",
    "# dùng biểu đồ tròn để biếu diễn tỷ lệ Categories thuộc top 10 với phần còn lại\n",
    "categories_others = pd.DataFrame({'Categories': ['others'], 'Count': [categories[10:]['Count'].sum()]})\n",
    "categories_pie = pd.concat([categories[:10],categories_others],ignore_index=True)\n",
    "print('-'*10)\n",
    "print('Vẽ biểu đồ pie so sánh tỷ lệ:')\n",
    "labels = categories_pie['Categories'].to_list()\n",
    "sizes = categories_pie['Count'].to_list()\n",
    "fig, ax = plt.subplots(figsize=(6,3))\n",
    "ax.pie(sizes,labels=labels,autopct='%1.1f%%');\n",
    "ax.set(title=\"Top 10 Categories được xây dựng nhiều nhất\");\n"
   ]
  },
  {
   "cell_type": "code",
   "execution_count": 210,
   "metadata": {},
   "outputs": [
    {
     "name": "stdout",
     "output_type": "stream",
     "text": [
      "Có 159343/299999 apps được đánh giá\n",
      "Đạt trung bình:  4.10sao\n",
      "Độ lệch chuẩn:  0.69\n"
     ]
    }
   ],
   "source": [
    "# Tìm danh sách các ứng dụng có ít nhất 1 lần đánh giá, tính trung bình số điểm, phương sai của danh sách đó\n",
    "data_app_lowest_rating = data.loc[data['Rating Count'] > 0]\n",
    "print(f'Có {len(data_app_lowest_rating)}/{len(data)} apps được đánh giá')\n",
    "\n",
    "data_app_lowest_rating_mean = data_app_lowest_rating['Rating'].mean()\n",
    "print(f'Đạt trung bình: {data_app_lowest_rating_mean : .2f}sao')\n",
    "\n",
    "data_app_lowest_rating_std = np.std(data_app_lowest_rating['Rating'].to_list())\n",
    "print(f'Độ lệch chuẩn: {data_app_lowest_rating_std : .2f}')"
   ]
  },
  {
   "cell_type": "code",
   "execution_count": 255,
   "metadata": {},
   "outputs": [
    {
     "name": "stdout",
     "output_type": "stream",
     "text": [
      "Tổng số lần đánh giá:  655,350,196 lần\n",
      "----------\n",
      "Top 10 apps được đánh giá nhiều nhất:\n",
      "----------\n"
     ]
    },
    {
     "data": {
      "image/png": "[encoded data removed]",
      "text/plain": [
       "<Figure size 900x600 with 1 Axes>"
      ]
     },
     "metadata": {},
     "output_type": "display_data"
    }
   ],
   "source": [
    "# Tìm tổng số lần đánh giá, lọc ra top 10 apps được đánh giá nhiều nhất.\n",
    "total_rating_count = data['Rating Count'].sum()\n",
    "print(f'Tổng số lần đánh giá: {total_rating_count : ,.0f} lần')\n",
    "print('-'*10)\n",
    "\n",
    "data_rating_count_sorted = data.sort_values([\"Rating Count\"],ascending=0)\n",
    "app_rating_top_10 = data_rating_count_sorted[:10]\n",
    "print(f'Top 10 apps được đánh giá nhiều nhất:')\n",
    "app_rating_top_10[['App Name',\"Rating\",\"Rating Count\"]]\n",
    "\n",
    "# vẽ bar\n",
    "print('-'*10)\n",
    "app_labels = app_rating_top_10[\"App Name\"].to_list()\n",
    "rating_sizes = app_rating_top_10[\"Rating\"].to_list()\n",
    "rating_count_sizes = app_rating_top_10[\"Rating Count\"].to_list()\n",
    "\n",
    "index = np.arange(len(app_labels))\n",
    "width = 0.3\n",
    "fig, ax = plt.subplots(figsize=(9,6))\n",
    "col1 = ax.bar(index, rating_sizes, width,color='green', label = \"Rating\")\n",
    "col2 = ax.bar(index+width, rating_count_sizes, width,color='blue', label = \"Counts\",bottom=rating_sizes)\n",
    "\n",
    "ax.set_ylabel('Giá trị trục y cho cột 1')\n",
    "ax.set_xlabel('Chỉ số')\n",
    "ax.set_title('Biểu đồ 2 cột với giá trị trục y khác nhau')\n",
    "ax.set_xticks(index + width / 2)\n",
    "ax.set_xticklabels(app_labels)\n",
    "ax.legend()\n",
    "\n",
    "plt.show()\n",
    "# chưa vẽ được 2 cột liền kề"
   ]
  },
  {
   "cell_type": "code",
   "execution_count": 281,
   "metadata": {},
   "outputs": [
    {
     "name": "stdout",
     "output_type": "stream",
     "text": [
      "Top apps được cài nhiều nhất:\n",
      "                                                 App Name    Installs\n",
      "179291                                       Google Drive  3514452283\n",
      "33794             Google TV (previously Play Movies & TV)  3079172294\n",
      "98482   Google Play Books - Ebooks, Audiobooks, and Co...  1602245753\n",
      "45327                                     Google Calendar  1326703146\n",
      "287224                                Samsung One UI Home  1079611283\n",
      "121665                                           Messages   968411754\n",
      "99551                                  Google Street View   861065702\n",
      "3149                                        Samsung Email   809014825\n",
      "37949                                      Samsung Health   671434549\n",
      "232435                                      YouTube Music   534987373\n",
      "----------\n",
      "Top apps được cài nhiều nhất:\n",
      "                                             App Name  Installs\n",
      "299527                                  Regulator UPS         1\n",
      "299543                   Grill & Bake House | Bristol         1\n",
      "299759                                          쉬운손전등         1\n",
      "299797                                      BetPerDay         1\n",
      "299881                       Generic Star Puzzle Game         1\n",
      "299901                   My Special Deal Port DePosit         1\n",
      "299902                        TBC of Keystone Heights         1\n",
      "299968  Space Fighter Multiplayer - Defend the Galaxy         1\n",
      "299970                            The Active Variable         1\n",
      "299987                               NEUSEA-LishaWang         1\n"
     ]
    }
   ],
   "source": [
    "# tìm ra danh sách 10 apps được cài đặt nhiều nhất và 10 apps ít cài đặt nhất. Và thuộc những Category\tnào?\n",
    "# install = (Minimum Installs + Maximum Installs)/2\n",
    "import math\n",
    "data['Installs'] = (data['Minimum Installs']+data['Maximum Installs']).floordiv(2)\n",
    "data_installs_sorted = data.sort_values([\"Installs\",\"Maximum Installs\"],ascending=[0,0])\n",
    "data_installs_sorted = data_installs_sorted.loc[data_installs_sorted[\"Installs\"] > 0]\n",
    "\n",
    "app_installs_top_10 = data_installs_sorted[:10]\n",
    "app_installs_bottom_10 = data_installs_sorted[-10:]\n",
    "\n",
    "print(f'Top apps được cài nhiều nhất:\\n{app_installs_top_10[[\"App Name\",\"Installs\"]]}')\n",
    "print('-'*10)\n",
    "print(f'Top apps được cài nhiều nhất:\\n{app_installs_bottom_10[[\"App Name\",\"Installs\"]]}')\n",
    "\n"
   ]
  },
  {
   "cell_type": "code",
   "execution_count": null,
   "metadata": {},
   "outputs": [],
   "source": [
    "# Lọc ra loại Category nào, trong top 10 apps được cài đặt nhiều nhất, nhưng không nằm trong top danh sách Categories"
   ]
  },
  {
   "cell_type": "code",
   "execution_count": null,
   "metadata": {},
   "outputs": [],
   "source": [
    "# Tìm những app miễn phí và app có fee được yêu thích nhất"
   ]
  },
  {
   "cell_type": "code",
   "execution_count": null,
   "metadata": {},
   "outputs": [],
   "source": [
    "# tính price trung bình của những apps có fee, app nào rẻ nhất, app nào mắc nhất."
   ]
  },
  {
   "cell_type": "code",
   "execution_count": null,
   "metadata": {},
   "outputs": [],
   "source": [
    "#tỷ lệ apps có fee và không fee trên tổng số mẫu. vẻ biểu đồ tròn"
   ]
  },
  {
   "cell_type": "code",
   "execution_count": null,
   "metadata": {},
   "outputs": [],
   "source": [
    "# kích thước trung bình 1 apps khi được đưa lên google play"
   ]
  },
  {
   "cell_type": "markdown",
   "metadata": {},
   "source": []
  }
 ],
 "metadata": {
  "kernelspec": {
   "display_name": "Python 3.9.2 64-bit",
   "language": "python",
   "name": "python3"
  },
  "language_info": {
   "codemirror_mode": {
    "name": "ipython",
    "version": 3
   },
   "file_extension": ".py",
   "mimetype": "text/x-python",
   "name": "python",
   "nbconvert_exporter": "python",
   "pygments_lexer": "ipython3",
   "version": "3.9.2"
  },
  "orig_nbformat": 4,
  "vscode": {
   "interpreter": {
    "hash": "916dbcbb3f70747c44a77c7bcd40155683ae19c65e1c03b4aa3499c5328201f1"
   }
  }
 },
 "nbformat": 4,
 "nbformat_minor": 2
}
