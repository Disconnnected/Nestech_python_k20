{
 "cells": [
  {
   "cell_type": "code",
   "execution_count": 6,
   "metadata": {},
   "outputs": [],
   "source": [
    "import pandas as pd\n",
    "import numpy as np\n",
    "import matplotlib.pyplot as plt"
   ]
  },
  {
   "cell_type": "markdown",
   "metadata": {},
   "source": [
    "## Khám phá dataset Google Play Store Apps\n",
    "#### lấy mẫu 500k từ dataset hơn 2 triệu apps\n",
    "https://www.kaggle.com/datasets/gauthamp10/google-playstore-apps"
   ]
  },
  {
   "cell_type": "code",
   "execution_count": 7,
   "metadata": {},
   "outputs": [
    {
     "name": "stdout",
     "output_type": "stream",
     "text": [
      "(300000, 24)\n",
      "Index(['App Name', 'App Id', 'Category', 'Rating', 'Rating Count', 'Installs',\n",
      "       'Minimum Installs', 'Maximum Installs', 'Free', 'Price', 'Currency',\n",
      "       'Size', 'Minimum Android', 'Developer Id', 'Developer Website',\n",
      "       'Developer Email', 'Released', 'Last Updated', 'Content Rating',\n",
      "       'Privacy Policy', 'Ad Supported', 'In App Purchases', 'Editors Choice',\n",
      "       'Scraped Time'],\n",
      "      dtype='object')\n"
     ]
    },
    {
     "data": {
      "text/html": [
       "<div>\n",
       "<style scoped>\n",
       "    .dataframe tbody tr th:only-of-type {\n",
       "        vertical-align: middle;\n",
       "    }\n",
       "\n",
       "    .dataframe tbody tr th {\n",
       "        vertical-align: top;\n",
       "    }\n",
       "\n",
       "    .dataframe thead th {\n",
       "        text-align: right;\n",
       "    }\n",
       "</style>\n",
       "<table border=\"1\" class=\"dataframe\">\n",
       "  <thead>\n",
       "    <tr style=\"text-align: right;\">\n",
       "      <th></th>\n",
       "      <th>App Name</th>\n",
       "      <th>App Id</th>\n",
       "      <th>Category</th>\n",
       "      <th>Rating</th>\n",
       "      <th>Rating Count</th>\n",
       "      <th>Installs</th>\n",
       "      <th>Minimum Installs</th>\n",
       "      <th>Maximum Installs</th>\n",
       "      <th>Free</th>\n",
       "      <th>Price</th>\n",
       "      <th>...</th>\n",
       "      <th>Developer Website</th>\n",
       "      <th>Developer Email</th>\n",
       "      <th>Released</th>\n",
       "      <th>Last Updated</th>\n",
       "      <th>Content Rating</th>\n",
       "      <th>Privacy Policy</th>\n",
       "      <th>Ad Supported</th>\n",
       "      <th>In App Purchases</th>\n",
       "      <th>Editors Choice</th>\n",
       "      <th>Scraped Time</th>\n",
       "    </tr>\n",
       "  </thead>\n",
       "  <tbody>\n",
       "    <tr>\n",
       "      <th>0</th>\n",
       "      <td>be.MOBILISED</td>\n",
       "      <td>com.hastobe.bemobilised</td>\n",
       "      <td>Maps &amp; Navigation</td>\n",
       "      <td>0.0</td>\n",
       "      <td>0.0</td>\n",
       "      <td>100+</td>\n",
       "      <td>100.0</td>\n",
       "      <td>274</td>\n",
       "      <td>True</td>\n",
       "      <td>0.0</td>\n",
       "      <td>...</td>\n",
       "      <td>http://www.has-to-be.com</td>\n",
       "      <td>support@has-to-be.com</td>\n",
       "      <td>Feb 9, 2020</td>\n",
       "      <td>May 14, 2021</td>\n",
       "      <td>Everyone</td>\n",
       "      <td>https://has-to-be.com/de/ueber-uns/datenschutz...</td>\n",
       "      <td>False</td>\n",
       "      <td>False</td>\n",
       "      <td>False</td>\n",
       "      <td>2021-06-15 20:19:36</td>\n",
       "    </tr>\n",
       "    <tr>\n",
       "      <th>1</th>\n",
       "      <td>OTENTIK Discovery FR</td>\n",
       "      <td>com.camineo.otentikdiscoveryDLFR</td>\n",
       "      <td>Travel &amp; Local</td>\n",
       "      <td>3.4</td>\n",
       "      <td>5.0</td>\n",
       "      <td>500+</td>\n",
       "      <td>500.0</td>\n",
       "      <td>949</td>\n",
       "      <td>True</td>\n",
       "      <td>0.0</td>\n",
       "      <td>...</td>\n",
       "      <td>http://www.hotels-attitude.com</td>\n",
       "      <td>info@hotels-attitude.com</td>\n",
       "      <td>Nov 28, 2016</td>\n",
       "      <td>Oct 30, 2019</td>\n",
       "      <td>Everyone</td>\n",
       "      <td>http://camineo.com/w7WEW99wBsdTH2FuyOeTQACM6mc...</td>\n",
       "      <td>False</td>\n",
       "      <td>False</td>\n",
       "      <td>False</td>\n",
       "      <td>2021-06-15 20:19:36</td>\n",
       "    </tr>\n",
       "    <tr>\n",
       "      <th>2</th>\n",
       "      <td>Nepali Congress</td>\n",
       "      <td>np.com.NepaliCongress</td>\n",
       "      <td>Social</td>\n",
       "      <td>0.0</td>\n",
       "      <td>0.0</td>\n",
       "      <td>100+</td>\n",
       "      <td>100.0</td>\n",
       "      <td>336</td>\n",
       "      <td>True</td>\n",
       "      <td>0.0</td>\n",
       "      <td>...</td>\n",
       "      <td>https://nepalicongress.org</td>\n",
       "      <td>info@nepalicongress.org</td>\n",
       "      <td>May 31, 2021</td>\n",
       "      <td>May 31, 2021</td>\n",
       "      <td>Everyone</td>\n",
       "      <td>https://nepalicongress.org/page/privacy-policy</td>\n",
       "      <td>False</td>\n",
       "      <td>False</td>\n",
       "      <td>False</td>\n",
       "      <td>2021-06-15 20:19:36</td>\n",
       "    </tr>\n",
       "    <tr>\n",
       "      <th>3</th>\n",
       "      <td>CUBIC RUNNER</td>\n",
       "      <td>jp.ga_software.cubicrunner</td>\n",
       "      <td>Arcade</td>\n",
       "      <td>0.0</td>\n",
       "      <td>0.0</td>\n",
       "      <td>1,000+</td>\n",
       "      <td>1000.0</td>\n",
       "      <td>1068</td>\n",
       "      <td>True</td>\n",
       "      <td>0.0</td>\n",
       "      <td>...</td>\n",
       "      <td>http://ga-software.blogspot.jp/</td>\n",
       "      <td>gasoftwarejp@gmail.com</td>\n",
       "      <td>Apr 1, 2015</td>\n",
       "      <td>Apr 16, 2015</td>\n",
       "      <td>Everyone</td>\n",
       "      <td>NaN</td>\n",
       "      <td>True</td>\n",
       "      <td>True</td>\n",
       "      <td>False</td>\n",
       "      <td>2021-06-15 20:19:37</td>\n",
       "    </tr>\n",
       "    <tr>\n",
       "      <th>4</th>\n",
       "      <td>Creepy Story</td>\n",
       "      <td>com.creepypasta.club</td>\n",
       "      <td>Entertainment</td>\n",
       "      <td>0.0</td>\n",
       "      <td>0.0</td>\n",
       "      <td>10+</td>\n",
       "      <td>10.0</td>\n",
       "      <td>22</td>\n",
       "      <td>True</td>\n",
       "      <td>0.0</td>\n",
       "      <td>...</td>\n",
       "      <td>NaN</td>\n",
       "      <td>andizulmai@gmail.com</td>\n",
       "      <td>May 28, 2019</td>\n",
       "      <td>May 30, 2019</td>\n",
       "      <td>Teen</td>\n",
       "      <td>http://hidayah.club/creepystory_privacy_policy...</td>\n",
       "      <td>True</td>\n",
       "      <td>False</td>\n",
       "      <td>False</td>\n",
       "      <td>2021-06-15 20:19:37</td>\n",
       "    </tr>\n",
       "  </tbody>\n",
       "</table>\n",
       "<p>5 rows × 24 columns</p>\n",
       "</div>"
      ],
      "text/plain": [
       "               App Name                            App Id           Category  \\\n",
       "0          be.MOBILISED           com.hastobe.bemobilised  Maps & Navigation   \n",
       "1  OTENTIK Discovery FR  com.camineo.otentikdiscoveryDLFR     Travel & Local   \n",
       "2       Nepali Congress             np.com.NepaliCongress             Social   \n",
       "3          CUBIC RUNNER        jp.ga_software.cubicrunner             Arcade   \n",
       "4          Creepy Story              com.creepypasta.club      Entertainment   \n",
       "\n",
       "   Rating  Rating Count Installs  Minimum Installs  Maximum Installs  Free  \\\n",
       "0     0.0           0.0     100+             100.0               274  True   \n",
       "1     3.4           5.0     500+             500.0               949  True   \n",
       "2     0.0           0.0     100+             100.0               336  True   \n",
       "3     0.0           0.0   1,000+            1000.0              1068  True   \n",
       "4     0.0           0.0      10+              10.0                22  True   \n",
       "\n",
       "   Price  ...                Developer Website           Developer Email  \\\n",
       "0    0.0  ...         http://www.has-to-be.com     support@has-to-be.com   \n",
       "1    0.0  ...   http://www.hotels-attitude.com  info@hotels-attitude.com   \n",
       "2    0.0  ...       https://nepalicongress.org   info@nepalicongress.org   \n",
       "3    0.0  ...  http://ga-software.blogspot.jp/    gasoftwarejp@gmail.com   \n",
       "4    0.0  ...                              NaN      andizulmai@gmail.com   \n",
       "\n",
       "       Released  Last Updated Content Rating  \\\n",
       "0   Feb 9, 2020  May 14, 2021       Everyone   \n",
       "1  Nov 28, 2016  Oct 30, 2019       Everyone   \n",
       "2  May 31, 2021  May 31, 2021       Everyone   \n",
       "3   Apr 1, 2015  Apr 16, 2015       Everyone   \n",
       "4  May 28, 2019  May 30, 2019           Teen   \n",
       "\n",
       "                                      Privacy Policy Ad Supported  \\\n",
       "0  https://has-to-be.com/de/ueber-uns/datenschutz...        False   \n",
       "1  http://camineo.com/w7WEW99wBsdTH2FuyOeTQACM6mc...        False   \n",
       "2     https://nepalicongress.org/page/privacy-policy        False   \n",
       "3                                                NaN         True   \n",
       "4  http://hidayah.club/creepystory_privacy_policy...         True   \n",
       "\n",
       "  In App Purchases Editors Choice         Scraped Time  \n",
       "0            False          False  2021-06-15 20:19:36  \n",
       "1            False          False  2021-06-15 20:19:36  \n",
       "2            False          False  2021-06-15 20:19:36  \n",
       "3             True          False  2021-06-15 20:19:37  \n",
       "4            False          False  2021-06-15 20:19:37  \n",
       "\n",
       "[5 rows x 24 columns]"
      ]
     },
     "execution_count": 7,
     "metadata": {},
     "output_type": "execute_result"
    }
   ],
   "source": [
    "df = pd.read_csv('Google-Playstore-Apps-300k.csv')\n",
    "print(df.shape)\n",
    "print(df.columns)\n",
    "df.head(5)"
   ]
  },
  {
   "cell_type": "markdown",
   "metadata": {},
   "source": [
    "### Chọn các cols cần thiết cho phân tích"
   ]
  },
  {
   "cell_type": "code",
   "execution_count": 11,
   "metadata": {},
   "outputs": [
    {
     "name": "stdout",
     "output_type": "stream",
     "text": [
      "(300000, 13)\n"
     ]
    },
    {
     "data": {
      "text/html": [
       "<div>\n",
       "<style scoped>\n",
       "    .dataframe tbody tr th:only-of-type {\n",
       "        vertical-align: middle;\n",
       "    }\n",
       "\n",
       "    .dataframe tbody tr th {\n",
       "        vertical-align: top;\n",
       "    }\n",
       "\n",
       "    .dataframe thead th {\n",
       "        text-align: right;\n",
       "    }\n",
       "</style>\n",
       "<table border=\"1\" class=\"dataframe\">\n",
       "  <thead>\n",
       "    <tr style=\"text-align: right;\">\n",
       "      <th></th>\n",
       "      <th>App Name</th>\n",
       "      <th>Category</th>\n",
       "      <th>Rating</th>\n",
       "      <th>Rating Count</th>\n",
       "      <th>Minimum Installs</th>\n",
       "      <th>Maximum Installs</th>\n",
       "      <th>Free</th>\n",
       "      <th>Price</th>\n",
       "      <th>Size</th>\n",
       "      <th>Released</th>\n",
       "      <th>Last Updated</th>\n",
       "      <th>Content Rating</th>\n",
       "      <th>Ad Supported</th>\n",
       "    </tr>\n",
       "  </thead>\n",
       "  <tbody>\n",
       "    <tr>\n",
       "      <th>0</th>\n",
       "      <td>be.MOBILISED</td>\n",
       "      <td>Maps &amp; Navigation</td>\n",
       "      <td>0.0</td>\n",
       "      <td>0.0</td>\n",
       "      <td>100.0</td>\n",
       "      <td>274</td>\n",
       "      <td>True</td>\n",
       "      <td>0.0</td>\n",
       "      <td>15M</td>\n",
       "      <td>Feb 9, 2020</td>\n",
       "      <td>May 14, 2021</td>\n",
       "      <td>Everyone</td>\n",
       "      <td>False</td>\n",
       "    </tr>\n",
       "    <tr>\n",
       "      <th>1</th>\n",
       "      <td>OTENTIK Discovery FR</td>\n",
       "      <td>Travel &amp; Local</td>\n",
       "      <td>3.4</td>\n",
       "      <td>5.0</td>\n",
       "      <td>500.0</td>\n",
       "      <td>949</td>\n",
       "      <td>True</td>\n",
       "      <td>0.0</td>\n",
       "      <td>2.9M</td>\n",
       "      <td>Nov 28, 2016</td>\n",
       "      <td>Oct 30, 2019</td>\n",
       "      <td>Everyone</td>\n",
       "      <td>False</td>\n",
       "    </tr>\n",
       "    <tr>\n",
       "      <th>2</th>\n",
       "      <td>Nepali Congress</td>\n",
       "      <td>Social</td>\n",
       "      <td>0.0</td>\n",
       "      <td>0.0</td>\n",
       "      <td>100.0</td>\n",
       "      <td>336</td>\n",
       "      <td>True</td>\n",
       "      <td>0.0</td>\n",
       "      <td>24M</td>\n",
       "      <td>May 31, 2021</td>\n",
       "      <td>May 31, 2021</td>\n",
       "      <td>Everyone</td>\n",
       "      <td>False</td>\n",
       "    </tr>\n",
       "  </tbody>\n",
       "</table>\n",
       "</div>"
      ],
      "text/plain": [
       "               App Name           Category  Rating  Rating Count  \\\n",
       "0          be.MOBILISED  Maps & Navigation     0.0           0.0   \n",
       "1  OTENTIK Discovery FR     Travel & Local     3.4           5.0   \n",
       "2       Nepali Congress             Social     0.0           0.0   \n",
       "\n",
       "   Minimum Installs  Maximum Installs  Free  Price  Size      Released  \\\n",
       "0             100.0               274  True    0.0   15M   Feb 9, 2020   \n",
       "1             500.0               949  True    0.0  2.9M  Nov 28, 2016   \n",
       "2             100.0               336  True    0.0   24M  May 31, 2021   \n",
       "\n",
       "   Last Updated Content Rating  Ad Supported  \n",
       "0  May 14, 2021       Everyone         False  \n",
       "1  Oct 30, 2019       Everyone         False  \n",
       "2  May 31, 2021       Everyone         False  "
      ]
     },
     "execution_count": 11,
     "metadata": {},
     "output_type": "execute_result"
    }
   ],
   "source": [
    "data = df[[\"App Name\", \"Category\", \"Rating\", \"Rating Count\",\"Minimum Installs\",\"Maximum Installs\", \"Free\",\"Price\",\"Size\",\"Released\",\"Last Updated\",\"Content Rating\",\"Ad Supported\"]]\n",
    "data.head(3)\n"
   ]
  },
  {
   "cell_type": "markdown",
   "metadata": {},
   "source": [
    "### Check sơ lượt dataset\n"
   ]
  },
  {
   "cell_type": "code",
   "execution_count": 12,
   "metadata": {},
   "outputs": [
    {
     "name": "stdout",
     "output_type": "stream",
     "text": [
      "(300000, 13)\n",
      "<class 'pandas.core.frame.DataFrame'>\n",
      "RangeIndex: 300000 entries, 0 to 299999\n",
      "Data columns (total 13 columns):\n",
      " #   Column            Non-Null Count   Dtype  \n",
      "---  ------            --------------   -----  \n",
      " 0   App Name          299999 non-null  object \n",
      " 1   Category          300000 non-null  object \n",
      " 2   Rating            297032 non-null  float64\n",
      " 3   Rating Count      297032 non-null  float64\n",
      " 4   Minimum Installs  299983 non-null  float64\n",
      " 5   Maximum Installs  300000 non-null  int64  \n",
      " 6   Free              300000 non-null  bool   \n",
      " 7   Price             300000 non-null  float64\n",
      " 8   Size              299974 non-null  object \n",
      " 9   Released          290654 non-null  object \n",
      " 10  Last Updated      300000 non-null  object \n",
      " 11  Content Rating    300000 non-null  object \n",
      " 12  Ad Supported      300000 non-null  bool   \n",
      "dtypes: bool(2), float64(4), int64(1), object(6)\n",
      "memory usage: 25.7+ MB\n",
      "None\n"
     ]
    }
   ],
   "source": [
    "print(data.shape)\n",
    "print(data.info())"
   ]
  },
  {
   "cell_type": "code",
   "execution_count": 13,
   "metadata": {},
   "outputs": [
    {
     "name": "stdout",
     "output_type": "stream",
     "text": [
      "           App Name   Category         Rating  Rating Count  Minimum Installs  \\\n",
      "count        299999     300000  297032.000000  2.970320e+05      2.999830e+05   \n",
      "unique       294629         48            NaN           NaN               NaN   \n",
      "top     Tic Tac Toe  Education            NaN           NaN               NaN   \n",
      "freq             47      31129            NaN           NaN               NaN   \n",
      "mean            NaN        NaN       2.199983  2.206330e+03      1.812697e+05   \n",
      "std             NaN        NaN       2.106347  6.655720e+04      1.425936e+07   \n",
      "min             NaN        NaN       0.000000  0.000000e+00      0.000000e+00   \n",
      "25%             NaN        NaN       0.000000  0.000000e+00      5.000000e+01   \n",
      "50%             NaN        NaN       2.900000  6.000000e+00      5.000000e+02   \n",
      "75%             NaN        NaN       4.300000  4.200000e+01      5.000000e+03   \n",
      "max             NaN        NaN       5.000000  1.429116e+07      5.000000e+09   \n",
      "\n",
      "        Maximum Installs    Free          Price                Size  \\\n",
      "count       3.000000e+05  300000  300000.000000              299974   \n",
      "unique               NaN       2            NaN                1391   \n",
      "top                  NaN    True            NaN  Varies with device   \n",
      "freq                 NaN  294190            NaN                9799   \n",
      "mean        3.149755e+05     NaN       0.105669                 NaN   \n",
      "std         2.090636e+07     NaN       2.821090                 NaN   \n",
      "min         0.000000e+00     NaN       0.000000                 NaN   \n",
      "25%         8.400000e+01     NaN       0.000000                 NaN   \n",
      "50%         6.920000e+02     NaN       0.000000                 NaN   \n",
      "75%         7.389000e+03     NaN       0.000000                 NaN   \n",
      "max         7.028265e+09     NaN     399.990000                 NaN   \n",
      "\n",
      "            Released  Last Updated Content Rating Ad Supported  \n",
      "count         290654        300000         300000       300000  \n",
      "unique          4069          3357              6            2  \n",
      "top     Feb 27, 2020  Jun 10, 2021       Everyone        False  \n",
      "freq             281          1457         262290       150620  \n",
      "mean             NaN           NaN            NaN          NaN  \n",
      "std              NaN           NaN            NaN          NaN  \n",
      "min              NaN           NaN            NaN          NaN  \n",
      "25%              NaN           NaN            NaN          NaN  \n",
      "50%              NaN           NaN            NaN          NaN  \n",
      "75%              NaN           NaN            NaN          NaN  \n",
      "max              NaN           NaN            NaN          NaN  \n"
     ]
    }
   ],
   "source": [
    "print(data.describe(include='all'))"
   ]
  },
  {
   "cell_type": "markdown",
   "metadata": {},
   "source": [
    "### cleaning data\n",
    "#### cleaning null"
   ]
  },
  {
   "cell_type": "code",
   "execution_count": 20,
   "metadata": {},
   "outputs": [
    {
     "name": "stderr",
     "output_type": "stream",
     "text": [
      "/tmp/ipykernel_6143/1041435560.py:2: SettingWithCopyWarning: \n",
      "A value is trying to be set on a copy of a slice from a DataFrame.\n",
      "Try using .loc[row_indexer,col_indexer] = value instead\n",
      "\n",
      "See the caveats in the documentation: https://pandas.pydata.org/pandas-docs/stable/user_guide/indexing.html#returning-a-view-versus-a-copy\n",
      "  data['App Name'] = data['App Name'].replace(np.nan, \"Not name\")\n",
      "/tmp/ipykernel_6143/1041435560.py:4: SettingWithCopyWarning: \n",
      "A value is trying to be set on a copy of a slice from a DataFrame.\n",
      "Try using .loc[row_indexer,col_indexer] = value instead\n",
      "\n",
      "See the caveats in the documentation: https://pandas.pydata.org/pandas-docs/stable/user_guide/indexing.html#returning-a-view-versus-a-copy\n",
      "  data[['Rating','Rating Count']] = data[['Rating','Rating Count']].replace(np.nan, 0)\n",
      "/tmp/ipykernel_6143/1041435560.py:6: SettingWithCopyWarning: \n",
      "A value is trying to be set on a copy of a slice from a DataFrame\n",
      "\n",
      "See the caveats in the documentation: https://pandas.pydata.org/pandas-docs/stable/user_guide/indexing.html#returning-a-view-versus-a-copy\n",
      "  data['Minimum Installs'].fillna(data['Maximum Installs']/2, inplace=True)\n",
      "/tmp/ipykernel_6143/1041435560.py:8: SettingWithCopyWarning: \n",
      "A value is trying to be set on a copy of a slice from a DataFrame\n",
      "\n",
      "See the caveats in the documentation: https://pandas.pydata.org/pandas-docs/stable/user_guide/indexing.html#returning-a-view-versus-a-copy\n",
      "  data['Size'].fillna('0M', inplace=True)\n",
      "/tmp/ipykernel_6143/1041435560.py:10: SettingWithCopyWarning: \n",
      "A value is trying to be set on a copy of a slice from a DataFrame\n",
      "\n",
      "See the caveats in the documentation: https://pandas.pydata.org/pandas-docs/stable/user_guide/indexing.html#returning-a-view-versus-a-copy\n",
      "  data['Released'].fillna(data['Last Updated'], inplace=True)\n"
     ]
    }
   ],
   "source": [
    "# App Name: replace = 'Not name'\n",
    "data['App Name'] = data['App Name'].replace(np.nan, \"Not name\")\n",
    "# Rating & Rating Count: replace = 0\n",
    "data[['Rating','Rating Count']] = data[['Rating','Rating Count']].replace(np.nan, 0)\n",
    "# Minimum Installs: replace = Maximum Installs / 2\n",
    "data['Minimum Installs'].fillna(data['Maximum Installs']/2, inplace=True)\n",
    "# Size: replace = '0M'\n",
    "data['Size'].fillna('0M', inplace=True)\n",
    "# Released: replace = Last Updated\n",
    "data['Released'].fillna(data['Last Updated'], inplace=True)"
   ]
  },
  {
   "cell_type": "code",
   "execution_count": 21,
   "metadata": {},
   "outputs": [
    {
     "name": "stdout",
     "output_type": "stream",
     "text": [
      "<class 'pandas.core.frame.DataFrame'>\n",
      "RangeIndex: 300000 entries, 0 to 299999\n",
      "Data columns (total 13 columns):\n",
      " #   Column            Non-Null Count   Dtype  \n",
      "---  ------            --------------   -----  \n",
      " 0   App Name          300000 non-null  object \n",
      " 1   Category          300000 non-null  object \n",
      " 2   Rating            300000 non-null  float64\n",
      " 3   Rating Count      300000 non-null  float64\n",
      " 4   Minimum Installs  300000 non-null  float64\n",
      " 5   Maximum Installs  300000 non-null  int64  \n",
      " 6   Free              300000 non-null  bool   \n",
      " 7   Price             300000 non-null  float64\n",
      " 8   Size              300000 non-null  object \n",
      " 9   Released          300000 non-null  object \n",
      " 10  Last Updated      300000 non-null  object \n",
      " 11  Content Rating    300000 non-null  object \n",
      " 12  Ad Supported      300000 non-null  bool   \n",
      "dtypes: bool(2), float64(4), int64(1), object(6)\n",
      "memory usage: 25.7+ MB\n"
     ]
    }
   ],
   "source": [
    "data.info()"
   ]
  },
  {
   "cell_type": "markdown",
   "metadata": {},
   "source": [
    "#### duplicate"
   ]
  },
  {
   "cell_type": "code",
   "execution_count": 22,
   "metadata": {},
   "outputs": [
    {
     "data": {
      "text/plain": [
       "Series([], dtype: int64)"
      ]
     },
     "execution_count": 22,
     "metadata": {},
     "output_type": "execute_result"
    }
   ],
   "source": [
    "data.loc[data.duplicated()].value_counts()"
   ]
  },
  {
   "cell_type": "markdown",
   "metadata": {},
   "source": [
    "#### wrong format\n",
    "check wrong format"
   ]
  },
  {
   "cell_type": "code",
   "execution_count": 23,
   "metadata": {},
   "outputs": [
    {
     "name": "stderr",
     "output_type": "stream",
     "text": [
      "/tmp/ipykernel_6143/1999689105.py:1: SettingWithCopyWarning: \n",
      "A value is trying to be set on a copy of a slice from a DataFrame.\n",
      "Try using .loc[row_indexer,col_indexer] = value instead\n",
      "\n",
      "See the caveats in the documentation: https://pandas.pydata.org/pandas-docs/stable/user_guide/indexing.html#returning-a-view-versus-a-copy\n",
      "  data['Unit byte'] = data['Size'].str.slice(-1)\n"
     ]
    },
    {
     "data": {
      "text/plain": [
       "['M', 'e', 'k', 'G']"
      ]
     },
     "execution_count": 23,
     "metadata": {},
     "output_type": "execute_result"
    }
   ],
   "source": [
    "data['Unit byte'] = data['Size'].str.slice(-1)\n",
    "data['Unit byte'].value_counts().index.to_list()"
   ]
  },
  {
   "cell_type": "markdown",
   "metadata": {},
   "source": []
  }
 ],
 "metadata": {
  "kernelspec": {
   "display_name": "Python 3.9.2 64-bit",
   "language": "python",
   "name": "python3"
  },
  "language_info": {
   "codemirror_mode": {
    "name": "ipython",
    "version": 3
   },
   "file_extension": ".py",
   "mimetype": "text/x-python",
   "name": "python",
   "nbconvert_exporter": "python",
   "pygments_lexer": "ipython3",
   "version": "3.9.2"
  },
  "orig_nbformat": 4,
  "vscode": {
   "interpreter": {
    "hash": "916dbcbb3f70747c44a77c7bcd40155683ae19c65e1c03b4aa3499c5328201f1"
   }
  }
 },
 "nbformat": 4,
 "nbformat_minor": 2
}
