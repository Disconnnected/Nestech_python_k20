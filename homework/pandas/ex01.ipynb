{
 "cells": [
  {
   "cell_type": "code",
   "execution_count": null,
   "metadata": {},
   "outputs": [],
   "source": [
    "# import\n",
    "import numpy as np\n",
    "import pandas as pd"
   ]
  },
  {
   "cell_type": "code",
   "execution_count": null,
   "metadata": {},
   "outputs": [],
   "source": [
    "\"\"\"\n",
    "create dataframe from source\n",
    "{'X':[78,85,96,80,86], 'Y':[84,94,89,83,86],'Z':[86,97,96,72,83]}\n",
    "\"\"\""
   ]
  },
  {
   "cell_type": "code",
   "execution_count": null,
   "metadata": {},
   "outputs": [],
   "source": [
    "\"\"\"\n",
    "create and display a DataFrame from a specified dictionary data which has the index labels\n",
    "- display a summary of the basic information\n",
    "- get the first 3 rows of a given DataFrame\n",
    "- select the 'name' and 'score' columns\n",
    "- select the rows where the number of attempts in the examination is greater than 2\n",
    "- count the number of rows and columns\n",
    "- select the rows where the score is missing\n",
    "- select the rows the score is between 15 and 20\n",
    "- select the rows where number of attempts in the examination is less than 2 and score greater than 15\n",
    "- change the score in row 'd' to 11.5\n",
    "- calculate the sum of the examination attempts by the students\n",
    "- calculate the mean score for each different student\n",
    "- append a new row 'k' to data frame with given values for each column: name : \"Suresh\", score: 15.5, attempts: 1, qualify: \"yes\", label: \"k\"\n",
    "- sort the DataFrame first by 'name' in descending order, then by 'score' in ascending order\n",
    "- replace the 'qualify' column contains the values 'yes' and 'no' with True and False\n",
    "- change the name 'James' to 'Suresh' in name column\n",
    "- delete the 'attempts' column\n",
    "-  insert a new column in existing DataFrame (any columns)\n",
    "- get list from DataFrame column headers\\\n",
    "- rename columns\n",
    "-  write a DataFrame to CSV file using tab separator\n",
    "- delete DataFrame row(s) based on given column value\n",
    "- select a row of series/dataframe by given integer index\n",
    "- replace all the NaN values with Zero's in a column of a dataframe\n",
    "- count the NaN values in one or more columns\n",
    "- drop a list of rows\n",
    "\"\"\"\n",
    "exam_data = {'name': ['Anastasia', 'Dima', 'Katherine', 'James', 'Emily', 'Michael', 'Matthew', 'Laura', 'Kevin', 'Jonas'],\n",
    "'score': [12.5, 9, 16.5, np.nan, 9, 20, 14.5, np.nan, 8, 19],\n",
    "'attempts': [1, 3, 2, 3, 2, 3, 1, 1, 2, 1],\n",
    "'qualify': ['yes', 'no', 'yes', 'no', 'no', 'yes', 'yes', 'no', 'no', 'yes']}\n",
    "labels = ['a', 'b', 'c', 'd', 'e', 'f', 'g', 'h', 'i', 'j']"
   ]
  },
  {
   "cell_type": "code",
   "execution_count": null,
   "metadata": {},
   "outputs": [],
   "source": [
    "\"\"\"\n",
    "convert DataFrame column type from string to datetime\n",
    "Sample data:\n",
    "String Date:\n",
    "0 3/11/2000\n",
    "1 3/12/2000\n",
    "2 3/13/2000\n",
    "dtype: object\n",
    "\"\"\""
   ]
  },
  {
   "cell_type": "code",
   "execution_count": null,
   "metadata": {},
   "outputs": [],
   "source": []
  },
  {
   "cell_type": "code",
   "execution_count": null,
   "metadata": {},
   "outputs": [],
   "source": []
  },
  {
   "cell_type": "code",
   "execution_count": null,
   "metadata": {},
   "outputs": [],
   "source": []
  },
  {
   "cell_type": "code",
   "execution_count": null,
   "metadata": {},
   "outputs": [],
   "source": []
  }
 ],
 "metadata": {
  "kernelspec": {
   "display_name": "Python 3",
   "language": "python",
   "name": "python3"
  },
  "language_info": {
   "codemirror_mode": {
    "name": "ipython",
    "version": 3
   },
   "file_extension": ".py",
   "mimetype": "text/x-python",
   "name": "python",
   "nbconvert_exporter": "python",
   "pygments_lexer": "ipython3",
   "version": "3.11.2"
  },
  "orig_nbformat": 4
 },
 "nbformat": 4,
 "nbformat_minor": 2
}
