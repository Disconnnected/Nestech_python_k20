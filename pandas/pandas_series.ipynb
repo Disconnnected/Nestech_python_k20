{
 "cells": [
  {
   "attachments": {},
   "cell_type": "markdown",
   "metadata": {},
   "source": [
    "# Pandas\n",
    "1. import data to processing\n",
    "2. Processing data: combining, merging, other type of analysis\n",
    "3. Visualizing data: chart, bar, pie\n",
    "4. Create report\n",
    "5. some statistical analysis\n",
    "6. (Advance) some ML (with other help of other libs)\n",
    "\n",
    "#### additional knowledge\n",
    "1. Mean - Average\n",
    "2. Median\n",
    "3. Variance\n",
    "4. Standard Deviation\n",
    "5. Percentiles\n",
    "6. Quartiles"
   ]
  },
  {
   "cell_type": "code",
   "execution_count": null,
   "metadata": {},
   "outputs": [],
   "source": [
    "import numpy as np\n",
    "import pandas as pd"
   ]
  },
  {
   "cell_type": "code",
   "execution_count": null,
   "metadata": {},
   "outputs": [],
   "source": [
    "series_ex = pd.Series([3,5,6,3,7,34,7,8,5,55,4])\n",
    "series_ex.name = \"Something draft\"\n",
    "series_ex"
   ]
  },
  {
   "cell_type": "code",
   "execution_count": null,
   "metadata": {},
   "outputs": [],
   "source": [
    "series_ex.dtype\n",
    "series_ex.values #similar to numpy\n",
    "series_ex[0] #callable\n",
    "# series_ex[-1] #==> error\n",
    "# series slicing include max and min range\n",
    "series_ex[-1:] # ==> okay\n",
    "series_ex.index #infomation about index in series\n",
    "series_ex.index = [\n",
    "    \"Nam\",\n",
    "    \"Kiên\",\n",
    "    \"Bắc\",\n",
    "    \"Dự\",\n",
    "    \"Tuấn\",\n",
    "    \"Linh\",\n",
    "    \"Đỗ\",\n",
    "    \"Long\",\n",
    "    \"Đức\",\n",
    "    \"Hồng\",\n",
    "    \"Sơn\"\n",
    "    ]\n",
    "series_ex"
   ]
  },
  {
   "cell_type": "code",
   "execution_count": null,
   "metadata": {},
   "outputs": [],
   "source": [
    "series_ex_2 = pd.Series({\n",
    "    \"Nam\": 3,\n",
    "    \"Kiên\": 5,\n",
    "    \"Bắc\": 6,\n",
    "    \"Dự\": 3,\n",
    "    \"Tuấn\": 7,\n",
    "    \"Linh\": 34,\n",
    "    \"Đỗ\": 7,\n",
    "    \"Long\": 8,\n",
    "    \"Đức\": 5,\n",
    "    \"Hồng\": 55,\n",
    "    \"Sơn\": 4,\n",
    "})\n",
    "series_ex_2"
   ]
  },
  {
   "cell_type": "code",
   "execution_count": null,
   "metadata": {},
   "outputs": [],
   "source": [
    "# use Series to create a series\n",
    "series_ex_clone = pd.Series(series_ex, index={\"Nam\", \"Đức\", \"Long\"})\n",
    "series_ex_clone"
   ]
  },
  {
   "cell_type": "code",
   "execution_count": null,
   "metadata": {},
   "outputs": [],
   "source": [
    "series_ex_2[\"Nam\"]\n",
    "series_ex_2[[\"Nam\", \"Long\"]]"
   ]
  },
  {
   "cell_type": "code",
   "execution_count": null,
   "metadata": {},
   "outputs": [],
   "source": [
    "series_ex_2.iloc[0]\n",
    "series_ex_2.iloc[-1] # return no error\n",
    "series_ex_2.iloc[[0,1,2]]"
   ]
  },
  {
   "cell_type": "code",
   "execution_count": null,
   "metadata": {},
   "outputs": [],
   "source": [
    "# conditional selection\n",
    "# ~ -> Not\n",
    "# | -> or\n",
    "# & -> and\n",
    "\n",
    "\n",
    "series_ex_2 > 5\n",
    "series_ex_2[series_ex_2 > 5]"
   ]
  },
  {
   "cell_type": "code",
   "execution_count": null,
   "metadata": {},
   "outputs": [],
   "source": [
    "series_ex_2.mean()\n",
    "series_ex_2.median()\n",
    "series_ex_2.var()\n",
    "series_ex_2.std()"
   ]
  },
  {
   "cell_type": "code",
   "execution_count": null,
   "metadata": {},
   "outputs": [],
   "source": [
    "series_ex_2[series_ex_2 > series_ex_2.mean()]\n",
    "series_ex_2[(series_ex_2 > 4) & (series_ex_2 < 8)]"
   ]
  },
  {
   "cell_type": "code",
   "execution_count": null,
   "metadata": {},
   "outputs": [],
   "source": [
    "# Modify series\n",
    "series_ex_2[\"Nam\"] = 10\n",
    "series_ex_2[-1]\n",
    "series_ex_2[series_ex_2 < 4] = 5\n",
    "series_ex_2"
   ]
  }
 ],
 "metadata": {
  "kernelspec": {
   "display_name": "Python 3.9.2 64-bit",
   "language": "python",
   "name": "python3"
  },
  "language_info": {
   "codemirror_mode": {
    "name": "ipython",
    "version": 3
   },
   "file_extension": ".py",
   "mimetype": "text/x-python",
   "name": "python",
   "nbconvert_exporter": "python",
   "pygments_lexer": "ipython3",
   "version": "3.9.2"
  },
  "orig_nbformat": 4,
  "vscode": {
   "interpreter": {
    "hash": "916dbcbb3f70747c44a77c7bcd40155683ae19c65e1c03b4aa3499c5328201f1"
   }
  }
 },
 "nbformat": 4,
 "nbformat_minor": 2
}
