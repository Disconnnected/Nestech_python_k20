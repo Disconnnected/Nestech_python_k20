{
 "cells": [
  {
   "cell_type": "markdown",
   "metadata": {},
   "source": [
    "# Class"
   ]
  },
  {
   "cell_type": "code",
   "execution_count": null,
   "metadata": {},
   "outputs": [],
   "source": [
    "# OOP - object oriented programing"
   ]
  },
  {
   "cell_type": "code",
   "execution_count": null,
   "metadata": {},
   "outputs": [],
   "source": [
    "\"\"\"\n",
    "\n",
    "Giống như 1 bản vẽ (blue prints). Từ 1 bản vẽ => nhiều ngôi nhà cụ thể hơn\n",
    "\n",
    "attibute\n",
    "method\n",
    "\n",
    "\"\"\""
   ]
  },
  {
   "cell_type": "code",
   "execution_count": null,
   "metadata": {},
   "outputs": [],
   "source": [
    "class Home():\n",
    "    def __init__(self, living_room, bathroom, stair, kitchen) -> None:\n",
    "        # square\n",
    "        living_room = self.living_room\n",
    "        bathroom = self.bathroom\n",
    "        stair = self.stair\n",
    "        kitchen = self.kitchen"
   ]
  },
  {
   "cell_type": "code",
   "execution_count": 5,
   "metadata": {},
   "outputs": [],
   "source": [
    "class FootbalPlayer():\n",
    "    # initial\n",
    "    def __init__(self, height, weight, name, club) -> None:\n",
    "        # attribute\n",
    "        # variable = value\n",
    "        self.height = height\n",
    "        self.weight = weight\n",
    "        self.name = name\n",
    "        self.club = club\n",
    "    \n",
    "    def __str__(self) -> str:\n",
    "        return f\"{self.name} have {self.height}cm and {self.weight}kg. Currently play for {self.club}\"\n",
    "\n",
    "    #method\n",
    "    def shoot(self):\n",
    "        print(f\"{self.name} shoot\")\n"
   ]
  },
  {
   "cell_type": "code",
   "execution_count": 7,
   "metadata": {},
   "outputs": [],
   "source": [
    "ronaldo = FootbalPlayer(180, 70, \"Critiano Ronaldo\", \"Real\")\n",
    "messi = FootbalPlayer(180, 70, \"Leonel Messi\", \"Bacca\")"
   ]
  },
  {
   "cell_type": "code",
   "execution_count": 9,
   "metadata": {},
   "outputs": [
    {
     "name": "stdout",
     "output_type": "stream",
     "text": [
      "Critiano Ronaldo shoot\n",
      "None\n"
     ]
    }
   ],
   "source": [
    "print(ronaldo.shoot())"
   ]
  },
  {
   "cell_type": "code",
   "execution_count": null,
   "metadata": {},
   "outputs": [],
   "source": []
  },
  {
   "cell_type": "code",
   "execution_count": null,
   "metadata": {},
   "outputs": [],
   "source": []
  },
  {
   "cell_type": "code",
   "execution_count": null,
   "metadata": {},
   "outputs": [],
   "source": []
  }
 ],
 "metadata": {
  "kernelspec": {
   "display_name": "Python 3",
   "language": "python",
   "name": "python3"
  },
  "language_info": {
   "codemirror_mode": {
    "name": "ipython",
    "version": 3
   },
   "file_extension": ".py",
   "mimetype": "text/x-python",
   "name": "python",
   "nbconvert_exporter": "python",
   "pygments_lexer": "ipython3",
   "version": "3.11.2"
  },
  "orig_nbformat": 4
 },
 "nbformat": 4,
 "nbformat_minor": 2
}
